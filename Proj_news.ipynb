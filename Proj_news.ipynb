{
  "nbformat": 4,
  "nbformat_minor": 0,
  "metadata": {
    "colab": {
      "name": "Proj-news.ipynb",
      "provenance": [],
      "include_colab_link": true
    },
    "kernelspec": {
      "name": "python3",
      "display_name": "Python 3"
    },
    "widgets": {
      "application/vnd.jupyter.widget-state+json": {
        "cf80b280708d45f29c1d0f610dcd5590": {
          "model_module": "@jupyter-widgets/controls",
          "model_name": "HBoxModel",
          "state": {
            "_view_name": "HBoxView",
            "_dom_classes": [],
            "_model_name": "HBoxModel",
            "_view_module": "@jupyter-widgets/controls",
            "_model_module_version": "1.5.0",
            "_view_count": null,
            "_view_module_version": "1.5.0",
            "box_style": "",
            "layout": "IPY_MODEL_a3d80aacd6294975997bd4cddb46fcda",
            "_model_module": "@jupyter-widgets/controls",
            "children": [
              "IPY_MODEL_ac530cf397a74c268d1d79b1707e40a2",
              "IPY_MODEL_62a47a9206e04800abdc34524450f4dd"
            ]
          }
        },
        "a3d80aacd6294975997bd4cddb46fcda": {
          "model_module": "@jupyter-widgets/base",
          "model_name": "LayoutModel",
          "state": {
            "_view_name": "LayoutView",
            "grid_template_rows": null,
            "right": null,
            "justify_content": null,
            "_view_module": "@jupyter-widgets/base",
            "overflow": null,
            "_model_module_version": "1.2.0",
            "_view_count": null,
            "flex_flow": null,
            "width": null,
            "min_width": null,
            "border": null,
            "align_items": null,
            "bottom": null,
            "_model_module": "@jupyter-widgets/base",
            "top": null,
            "grid_column": null,
            "overflow_y": null,
            "overflow_x": null,
            "grid_auto_flow": null,
            "grid_area": null,
            "grid_template_columns": null,
            "flex": null,
            "_model_name": "LayoutModel",
            "justify_items": null,
            "grid_row": null,
            "max_height": null,
            "align_content": null,
            "visibility": null,
            "align_self": null,
            "height": null,
            "min_height": null,
            "padding": null,
            "grid_auto_rows": null,
            "grid_gap": null,
            "max_width": null,
            "order": null,
            "_view_module_version": "1.2.0",
            "grid_template_areas": null,
            "object_position": null,
            "object_fit": null,
            "grid_auto_columns": null,
            "margin": null,
            "display": null,
            "left": null
          }
        },
        "ac530cf397a74c268d1d79b1707e40a2": {
          "model_module": "@jupyter-widgets/controls",
          "model_name": "FloatProgressModel",
          "state": {
            "_view_name": "ProgressView",
            "style": "IPY_MODEL_dfc2e975970c40c89683997c891b11ff",
            "_dom_classes": [],
            "description": "Downloading: 100%",
            "_model_name": "FloatProgressModel",
            "bar_style": "success",
            "max": 908,
            "_view_module": "@jupyter-widgets/controls",
            "_model_module_version": "1.5.0",
            "value": 908,
            "_view_count": null,
            "_view_module_version": "1.5.0",
            "orientation": "horizontal",
            "min": 0,
            "description_tooltip": null,
            "_model_module": "@jupyter-widgets/controls",
            "layout": "IPY_MODEL_c2136fa7c79e4399852a29daaa0dad48"
          }
        },
        "62a47a9206e04800abdc34524450f4dd": {
          "model_module": "@jupyter-widgets/controls",
          "model_name": "HTMLModel",
          "state": {
            "_view_name": "HTMLView",
            "style": "IPY_MODEL_27328de68ce04e578d3fb19787590c08",
            "_dom_classes": [],
            "description": "",
            "_model_name": "HTMLModel",
            "placeholder": "​",
            "_view_module": "@jupyter-widgets/controls",
            "_model_module_version": "1.5.0",
            "value": " 908/908 [00:00&lt;00:00, 3.65kB/s]",
            "_view_count": null,
            "_view_module_version": "1.5.0",
            "description_tooltip": null,
            "_model_module": "@jupyter-widgets/controls",
            "layout": "IPY_MODEL_43040eddc97e4adca01c99087672172a"
          }
        },
        "dfc2e975970c40c89683997c891b11ff": {
          "model_module": "@jupyter-widgets/controls",
          "model_name": "ProgressStyleModel",
          "state": {
            "_view_name": "StyleView",
            "_model_name": "ProgressStyleModel",
            "description_width": "initial",
            "_view_module": "@jupyter-widgets/base",
            "_model_module_version": "1.5.0",
            "_view_count": null,
            "_view_module_version": "1.2.0",
            "bar_color": null,
            "_model_module": "@jupyter-widgets/controls"
          }
        },
        "c2136fa7c79e4399852a29daaa0dad48": {
          "model_module": "@jupyter-widgets/base",
          "model_name": "LayoutModel",
          "state": {
            "_view_name": "LayoutView",
            "grid_template_rows": null,
            "right": null,
            "justify_content": null,
            "_view_module": "@jupyter-widgets/base",
            "overflow": null,
            "_model_module_version": "1.2.0",
            "_view_count": null,
            "flex_flow": null,
            "width": null,
            "min_width": null,
            "border": null,
            "align_items": null,
            "bottom": null,
            "_model_module": "@jupyter-widgets/base",
            "top": null,
            "grid_column": null,
            "overflow_y": null,
            "overflow_x": null,
            "grid_auto_flow": null,
            "grid_area": null,
            "grid_template_columns": null,
            "flex": null,
            "_model_name": "LayoutModel",
            "justify_items": null,
            "grid_row": null,
            "max_height": null,
            "align_content": null,
            "visibility": null,
            "align_self": null,
            "height": null,
            "min_height": null,
            "padding": null,
            "grid_auto_rows": null,
            "grid_gap": null,
            "max_width": null,
            "order": null,
            "_view_module_version": "1.2.0",
            "grid_template_areas": null,
            "object_position": null,
            "object_fit": null,
            "grid_auto_columns": null,
            "margin": null,
            "display": null,
            "left": null
          }
        },
        "27328de68ce04e578d3fb19787590c08": {
          "model_module": "@jupyter-widgets/controls",
          "model_name": "DescriptionStyleModel",
          "state": {
            "_view_name": "StyleView",
            "_model_name": "DescriptionStyleModel",
            "description_width": "",
            "_view_module": "@jupyter-widgets/base",
            "_model_module_version": "1.5.0",
            "_view_count": null,
            "_view_module_version": "1.2.0",
            "_model_module": "@jupyter-widgets/controls"
          }
        },
        "43040eddc97e4adca01c99087672172a": {
          "model_module": "@jupyter-widgets/base",
          "model_name": "LayoutModel",
          "state": {
            "_view_name": "LayoutView",
            "grid_template_rows": null,
            "right": null,
            "justify_content": null,
            "_view_module": "@jupyter-widgets/base",
            "overflow": null,
            "_model_module_version": "1.2.0",
            "_view_count": null,
            "flex_flow": null,
            "width": null,
            "min_width": null,
            "border": null,
            "align_items": null,
            "bottom": null,
            "_model_module": "@jupyter-widgets/base",
            "top": null,
            "grid_column": null,
            "overflow_y": null,
            "overflow_x": null,
            "grid_auto_flow": null,
            "grid_area": null,
            "grid_template_columns": null,
            "flex": null,
            "_model_name": "LayoutModel",
            "justify_items": null,
            "grid_row": null,
            "max_height": null,
            "align_content": null,
            "visibility": null,
            "align_self": null,
            "height": null,
            "min_height": null,
            "padding": null,
            "grid_auto_rows": null,
            "grid_gap": null,
            "max_width": null,
            "order": null,
            "_view_module_version": "1.2.0",
            "grid_template_areas": null,
            "object_position": null,
            "object_fit": null,
            "grid_auto_columns": null,
            "margin": null,
            "display": null,
            "left": null
          }
        },
        "8856bb2879c347618e002d1d85a8879f": {
          "model_module": "@jupyter-widgets/controls",
          "model_name": "HBoxModel",
          "state": {
            "_view_name": "HBoxView",
            "_dom_classes": [],
            "_model_name": "HBoxModel",
            "_view_module": "@jupyter-widgets/controls",
            "_model_module_version": "1.5.0",
            "_view_count": null,
            "_view_module_version": "1.5.0",
            "box_style": "",
            "layout": "IPY_MODEL_95fa9b5a0dc548faafbd05f42bf93cd4",
            "_model_module": "@jupyter-widgets/controls",
            "children": [
              "IPY_MODEL_09b6b93fb0064af0b7a70919e043fea5",
              "IPY_MODEL_6aac13da0c334c73b4efb25ee764d6c0"
            ]
          }
        },
        "95fa9b5a0dc548faafbd05f42bf93cd4": {
          "model_module": "@jupyter-widgets/base",
          "model_name": "LayoutModel",
          "state": {
            "_view_name": "LayoutView",
            "grid_template_rows": null,
            "right": null,
            "justify_content": null,
            "_view_module": "@jupyter-widgets/base",
            "overflow": null,
            "_model_module_version": "1.2.0",
            "_view_count": null,
            "flex_flow": null,
            "width": null,
            "min_width": null,
            "border": null,
            "align_items": null,
            "bottom": null,
            "_model_module": "@jupyter-widgets/base",
            "top": null,
            "grid_column": null,
            "overflow_y": null,
            "overflow_x": null,
            "grid_auto_flow": null,
            "grid_area": null,
            "grid_template_columns": null,
            "flex": null,
            "_model_name": "LayoutModel",
            "justify_items": null,
            "grid_row": null,
            "max_height": null,
            "align_content": null,
            "visibility": null,
            "align_self": null,
            "height": null,
            "min_height": null,
            "padding": null,
            "grid_auto_rows": null,
            "grid_gap": null,
            "max_width": null,
            "order": null,
            "_view_module_version": "1.2.0",
            "grid_template_areas": null,
            "object_position": null,
            "object_fit": null,
            "grid_auto_columns": null,
            "margin": null,
            "display": null,
            "left": null
          }
        },
        "09b6b93fb0064af0b7a70919e043fea5": {
          "model_module": "@jupyter-widgets/controls",
          "model_name": "FloatProgressModel",
          "state": {
            "_view_name": "ProgressView",
            "style": "IPY_MODEL_c760bf7bfae04d19b7c4756efb289949",
            "_dom_classes": [],
            "description": "Downloading: 100%",
            "_model_name": "FloatProgressModel",
            "bar_style": "success",
            "max": 898823,
            "_view_module": "@jupyter-widgets/controls",
            "_model_module_version": "1.5.0",
            "value": 898823,
            "_view_count": null,
            "_view_module_version": "1.5.0",
            "orientation": "horizontal",
            "min": 0,
            "description_tooltip": null,
            "_model_module": "@jupyter-widgets/controls",
            "layout": "IPY_MODEL_c864f32760ed48eb90995535edf122a7"
          }
        },
        "6aac13da0c334c73b4efb25ee764d6c0": {
          "model_module": "@jupyter-widgets/controls",
          "model_name": "HTMLModel",
          "state": {
            "_view_name": "HTMLView",
            "style": "IPY_MODEL_4e201dd0bdf646398ad3453605823494",
            "_dom_classes": [],
            "description": "",
            "_model_name": "HTMLModel",
            "placeholder": "​",
            "_view_module": "@jupyter-widgets/controls",
            "_model_module_version": "1.5.0",
            "value": " 899k/899k [00:00&lt;00:00, 2.07MB/s]",
            "_view_count": null,
            "_view_module_version": "1.5.0",
            "description_tooltip": null,
            "_model_module": "@jupyter-widgets/controls",
            "layout": "IPY_MODEL_5abf25c0190540d691e7c96d396c832b"
          }
        },
        "c760bf7bfae04d19b7c4756efb289949": {
          "model_module": "@jupyter-widgets/controls",
          "model_name": "ProgressStyleModel",
          "state": {
            "_view_name": "StyleView",
            "_model_name": "ProgressStyleModel",
            "description_width": "initial",
            "_view_module": "@jupyter-widgets/base",
            "_model_module_version": "1.5.0",
            "_view_count": null,
            "_view_module_version": "1.2.0",
            "bar_color": null,
            "_model_module": "@jupyter-widgets/controls"
          }
        },
        "c864f32760ed48eb90995535edf122a7": {
          "model_module": "@jupyter-widgets/base",
          "model_name": "LayoutModel",
          "state": {
            "_view_name": "LayoutView",
            "grid_template_rows": null,
            "right": null,
            "justify_content": null,
            "_view_module": "@jupyter-widgets/base",
            "overflow": null,
            "_model_module_version": "1.2.0",
            "_view_count": null,
            "flex_flow": null,
            "width": null,
            "min_width": null,
            "border": null,
            "align_items": null,
            "bottom": null,
            "_model_module": "@jupyter-widgets/base",
            "top": null,
            "grid_column": null,
            "overflow_y": null,
            "overflow_x": null,
            "grid_auto_flow": null,
            "grid_area": null,
            "grid_template_columns": null,
            "flex": null,
            "_model_name": "LayoutModel",
            "justify_items": null,
            "grid_row": null,
            "max_height": null,
            "align_content": null,
            "visibility": null,
            "align_self": null,
            "height": null,
            "min_height": null,
            "padding": null,
            "grid_auto_rows": null,
            "grid_gap": null,
            "max_width": null,
            "order": null,
            "_view_module_version": "1.2.0",
            "grid_template_areas": null,
            "object_position": null,
            "object_fit": null,
            "grid_auto_columns": null,
            "margin": null,
            "display": null,
            "left": null
          }
        },
        "4e201dd0bdf646398ad3453605823494": {
          "model_module": "@jupyter-widgets/controls",
          "model_name": "DescriptionStyleModel",
          "state": {
            "_view_name": "StyleView",
            "_model_name": "DescriptionStyleModel",
            "description_width": "",
            "_view_module": "@jupyter-widgets/base",
            "_model_module_version": "1.5.0",
            "_view_count": null,
            "_view_module_version": "1.2.0",
            "_model_module": "@jupyter-widgets/controls"
          }
        },
        "5abf25c0190540d691e7c96d396c832b": {
          "model_module": "@jupyter-widgets/base",
          "model_name": "LayoutModel",
          "state": {
            "_view_name": "LayoutView",
            "grid_template_rows": null,
            "right": null,
            "justify_content": null,
            "_view_module": "@jupyter-widgets/base",
            "overflow": null,
            "_model_module_version": "1.2.0",
            "_view_count": null,
            "flex_flow": null,
            "width": null,
            "min_width": null,
            "border": null,
            "align_items": null,
            "bottom": null,
            "_model_module": "@jupyter-widgets/base",
            "top": null,
            "grid_column": null,
            "overflow_y": null,
            "overflow_x": null,
            "grid_auto_flow": null,
            "grid_area": null,
            "grid_template_columns": null,
            "flex": null,
            "_model_name": "LayoutModel",
            "justify_items": null,
            "grid_row": null,
            "max_height": null,
            "align_content": null,
            "visibility": null,
            "align_self": null,
            "height": null,
            "min_height": null,
            "padding": null,
            "grid_auto_rows": null,
            "grid_gap": null,
            "max_width": null,
            "order": null,
            "_view_module_version": "1.2.0",
            "grid_template_areas": null,
            "object_position": null,
            "object_fit": null,
            "grid_auto_columns": null,
            "margin": null,
            "display": null,
            "left": null
          }
        },
        "f817ce48407c4d4388ba08587b852ca8": {
          "model_module": "@jupyter-widgets/controls",
          "model_name": "HBoxModel",
          "state": {
            "_view_name": "HBoxView",
            "_dom_classes": [],
            "_model_name": "HBoxModel",
            "_view_module": "@jupyter-widgets/controls",
            "_model_module_version": "1.5.0",
            "_view_count": null,
            "_view_module_version": "1.5.0",
            "box_style": "",
            "layout": "IPY_MODEL_afae7c87b9b341298d73be12db89423a",
            "_model_module": "@jupyter-widgets/controls",
            "children": [
              "IPY_MODEL_0e70f7c5dfd04919afb45699b465f89d",
              "IPY_MODEL_5f8011b0a41c4c3ca28a01ecd772d638"
            ]
          }
        },
        "afae7c87b9b341298d73be12db89423a": {
          "model_module": "@jupyter-widgets/base",
          "model_name": "LayoutModel",
          "state": {
            "_view_name": "LayoutView",
            "grid_template_rows": null,
            "right": null,
            "justify_content": null,
            "_view_module": "@jupyter-widgets/base",
            "overflow": null,
            "_model_module_version": "1.2.0",
            "_view_count": null,
            "flex_flow": null,
            "width": null,
            "min_width": null,
            "border": null,
            "align_items": null,
            "bottom": null,
            "_model_module": "@jupyter-widgets/base",
            "top": null,
            "grid_column": null,
            "overflow_y": null,
            "overflow_x": null,
            "grid_auto_flow": null,
            "grid_area": null,
            "grid_template_columns": null,
            "flex": null,
            "_model_name": "LayoutModel",
            "justify_items": null,
            "grid_row": null,
            "max_height": null,
            "align_content": null,
            "visibility": null,
            "align_self": null,
            "height": null,
            "min_height": null,
            "padding": null,
            "grid_auto_rows": null,
            "grid_gap": null,
            "max_width": null,
            "order": null,
            "_view_module_version": "1.2.0",
            "grid_template_areas": null,
            "object_position": null,
            "object_fit": null,
            "grid_auto_columns": null,
            "margin": null,
            "display": null,
            "left": null
          }
        },
        "0e70f7c5dfd04919afb45699b465f89d": {
          "model_module": "@jupyter-widgets/controls",
          "model_name": "FloatProgressModel",
          "state": {
            "_view_name": "ProgressView",
            "style": "IPY_MODEL_28de9fd515854fda87893cb092fb821c",
            "_dom_classes": [],
            "description": "Downloading: 100%",
            "_model_name": "FloatProgressModel",
            "bar_style": "success",
            "max": 456318,
            "_view_module": "@jupyter-widgets/controls",
            "_model_module_version": "1.5.0",
            "value": 456318,
            "_view_count": null,
            "_view_module_version": "1.5.0",
            "orientation": "horizontal",
            "min": 0,
            "description_tooltip": null,
            "_model_module": "@jupyter-widgets/controls",
            "layout": "IPY_MODEL_18e5ff54469642ec9a79993099bc8c2b"
          }
        },
        "5f8011b0a41c4c3ca28a01ecd772d638": {
          "model_module": "@jupyter-widgets/controls",
          "model_name": "HTMLModel",
          "state": {
            "_view_name": "HTMLView",
            "style": "IPY_MODEL_ed0d0f3e3c324bceb900c44ffa64fd1a",
            "_dom_classes": [],
            "description": "",
            "_model_name": "HTMLModel",
            "placeholder": "​",
            "_view_module": "@jupyter-widgets/controls",
            "_model_module_version": "1.5.0",
            "value": " 456k/456k [00:00&lt;00:00, 2.95MB/s]",
            "_view_count": null,
            "_view_module_version": "1.5.0",
            "description_tooltip": null,
            "_model_module": "@jupyter-widgets/controls",
            "layout": "IPY_MODEL_9db1fb4a8b3d4535b69237a68202d0cd"
          }
        },
        "28de9fd515854fda87893cb092fb821c": {
          "model_module": "@jupyter-widgets/controls",
          "model_name": "ProgressStyleModel",
          "state": {
            "_view_name": "StyleView",
            "_model_name": "ProgressStyleModel",
            "description_width": "initial",
            "_view_module": "@jupyter-widgets/base",
            "_model_module_version": "1.5.0",
            "_view_count": null,
            "_view_module_version": "1.2.0",
            "bar_color": null,
            "_model_module": "@jupyter-widgets/controls"
          }
        },
        "18e5ff54469642ec9a79993099bc8c2b": {
          "model_module": "@jupyter-widgets/base",
          "model_name": "LayoutModel",
          "state": {
            "_view_name": "LayoutView",
            "grid_template_rows": null,
            "right": null,
            "justify_content": null,
            "_view_module": "@jupyter-widgets/base",
            "overflow": null,
            "_model_module_version": "1.2.0",
            "_view_count": null,
            "flex_flow": null,
            "width": null,
            "min_width": null,
            "border": null,
            "align_items": null,
            "bottom": null,
            "_model_module": "@jupyter-widgets/base",
            "top": null,
            "grid_column": null,
            "overflow_y": null,
            "overflow_x": null,
            "grid_auto_flow": null,
            "grid_area": null,
            "grid_template_columns": null,
            "flex": null,
            "_model_name": "LayoutModel",
            "justify_items": null,
            "grid_row": null,
            "max_height": null,
            "align_content": null,
            "visibility": null,
            "align_self": null,
            "height": null,
            "min_height": null,
            "padding": null,
            "grid_auto_rows": null,
            "grid_gap": null,
            "max_width": null,
            "order": null,
            "_view_module_version": "1.2.0",
            "grid_template_areas": null,
            "object_position": null,
            "object_fit": null,
            "grid_auto_columns": null,
            "margin": null,
            "display": null,
            "left": null
          }
        },
        "ed0d0f3e3c324bceb900c44ffa64fd1a": {
          "model_module": "@jupyter-widgets/controls",
          "model_name": "DescriptionStyleModel",
          "state": {
            "_view_name": "StyleView",
            "_model_name": "DescriptionStyleModel",
            "description_width": "",
            "_view_module": "@jupyter-widgets/base",
            "_model_module_version": "1.5.0",
            "_view_count": null,
            "_view_module_version": "1.2.0",
            "_model_module": "@jupyter-widgets/controls"
          }
        },
        "9db1fb4a8b3d4535b69237a68202d0cd": {
          "model_module": "@jupyter-widgets/base",
          "model_name": "LayoutModel",
          "state": {
            "_view_name": "LayoutView",
            "grid_template_rows": null,
            "right": null,
            "justify_content": null,
            "_view_module": "@jupyter-widgets/base",
            "overflow": null,
            "_model_module_version": "1.2.0",
            "_view_count": null,
            "flex_flow": null,
            "width": null,
            "min_width": null,
            "border": null,
            "align_items": null,
            "bottom": null,
            "_model_module": "@jupyter-widgets/base",
            "top": null,
            "grid_column": null,
            "overflow_y": null,
            "overflow_x": null,
            "grid_auto_flow": null,
            "grid_area": null,
            "grid_template_columns": null,
            "flex": null,
            "_model_name": "LayoutModel",
            "justify_items": null,
            "grid_row": null,
            "max_height": null,
            "align_content": null,
            "visibility": null,
            "align_self": null,
            "height": null,
            "min_height": null,
            "padding": null,
            "grid_auto_rows": null,
            "grid_gap": null,
            "max_width": null,
            "order": null,
            "_view_module_version": "1.2.0",
            "grid_template_areas": null,
            "object_position": null,
            "object_fit": null,
            "grid_auto_columns": null,
            "margin": null,
            "display": null,
            "left": null
          }
        },
        "5af07bc6daaf4308bd1795522d9cbac3": {
          "model_module": "@jupyter-widgets/controls",
          "model_name": "HBoxModel",
          "state": {
            "_view_name": "HBoxView",
            "_dom_classes": [],
            "_model_name": "HBoxModel",
            "_view_module": "@jupyter-widgets/controls",
            "_model_module_version": "1.5.0",
            "_view_count": null,
            "_view_module_version": "1.5.0",
            "box_style": "",
            "layout": "IPY_MODEL_2147c84adba74b8887c8b3c670f5efd2",
            "_model_module": "@jupyter-widgets/controls",
            "children": [
              "IPY_MODEL_261a459d94e34b24a37867e68d96dfc3",
              "IPY_MODEL_f56a2be7437f4341be6ade6123453f48"
            ]
          }
        },
        "2147c84adba74b8887c8b3c670f5efd2": {
          "model_module": "@jupyter-widgets/base",
          "model_name": "LayoutModel",
          "state": {
            "_view_name": "LayoutView",
            "grid_template_rows": null,
            "right": null,
            "justify_content": null,
            "_view_module": "@jupyter-widgets/base",
            "overflow": null,
            "_model_module_version": "1.2.0",
            "_view_count": null,
            "flex_flow": null,
            "width": null,
            "min_width": null,
            "border": null,
            "align_items": null,
            "bottom": null,
            "_model_module": "@jupyter-widgets/base",
            "top": null,
            "grid_column": null,
            "overflow_y": null,
            "overflow_x": null,
            "grid_auto_flow": null,
            "grid_area": null,
            "grid_template_columns": null,
            "flex": null,
            "_model_name": "LayoutModel",
            "justify_items": null,
            "grid_row": null,
            "max_height": null,
            "align_content": null,
            "visibility": null,
            "align_self": null,
            "height": null,
            "min_height": null,
            "padding": null,
            "grid_auto_rows": null,
            "grid_gap": null,
            "max_width": null,
            "order": null,
            "_view_module_version": "1.2.0",
            "grid_template_areas": null,
            "object_position": null,
            "object_fit": null,
            "grid_auto_columns": null,
            "margin": null,
            "display": null,
            "left": null
          }
        },
        "261a459d94e34b24a37867e68d96dfc3": {
          "model_module": "@jupyter-widgets/controls",
          "model_name": "FloatProgressModel",
          "state": {
            "_view_name": "ProgressView",
            "style": "IPY_MODEL_50a2a65472224c96893214c2aacd06ec",
            "_dom_classes": [],
            "description": "Downloading: 100%",
            "_model_name": "FloatProgressModel",
            "bar_style": "success",
            "max": 1629486723,
            "_view_module": "@jupyter-widgets/controls",
            "_model_module_version": "1.5.0",
            "value": 1629486723,
            "_view_count": null,
            "_view_module_version": "1.5.0",
            "orientation": "horizontal",
            "min": 0,
            "description_tooltip": null,
            "_model_module": "@jupyter-widgets/controls",
            "layout": "IPY_MODEL_b3651048913a40fb88a64ab913587c26"
          }
        },
        "f56a2be7437f4341be6ade6123453f48": {
          "model_module": "@jupyter-widgets/controls",
          "model_name": "HTMLModel",
          "state": {
            "_view_name": "HTMLView",
            "style": "IPY_MODEL_d16c2ee4a8a34f72b9df02581609d91f",
            "_dom_classes": [],
            "description": "",
            "_model_name": "HTMLModel",
            "placeholder": "​",
            "_view_module": "@jupyter-widgets/controls",
            "_model_module_version": "1.5.0",
            "value": " 1.63G/1.63G [00:48&lt;00:00, 33.6MB/s]",
            "_view_count": null,
            "_view_module_version": "1.5.0",
            "description_tooltip": null,
            "_model_module": "@jupyter-widgets/controls",
            "layout": "IPY_MODEL_f8c81717a6744f6689c4f5298f6ad0f5"
          }
        },
        "50a2a65472224c96893214c2aacd06ec": {
          "model_module": "@jupyter-widgets/controls",
          "model_name": "ProgressStyleModel",
          "state": {
            "_view_name": "StyleView",
            "_model_name": "ProgressStyleModel",
            "description_width": "initial",
            "_view_module": "@jupyter-widgets/base",
            "_model_module_version": "1.5.0",
            "_view_count": null,
            "_view_module_version": "1.2.0",
            "bar_color": null,
            "_model_module": "@jupyter-widgets/controls"
          }
        },
        "b3651048913a40fb88a64ab913587c26": {
          "model_module": "@jupyter-widgets/base",
          "model_name": "LayoutModel",
          "state": {
            "_view_name": "LayoutView",
            "grid_template_rows": null,
            "right": null,
            "justify_content": null,
            "_view_module": "@jupyter-widgets/base",
            "overflow": null,
            "_model_module_version": "1.2.0",
            "_view_count": null,
            "flex_flow": null,
            "width": null,
            "min_width": null,
            "border": null,
            "align_items": null,
            "bottom": null,
            "_model_module": "@jupyter-widgets/base",
            "top": null,
            "grid_column": null,
            "overflow_y": null,
            "overflow_x": null,
            "grid_auto_flow": null,
            "grid_area": null,
            "grid_template_columns": null,
            "flex": null,
            "_model_name": "LayoutModel",
            "justify_items": null,
            "grid_row": null,
            "max_height": null,
            "align_content": null,
            "visibility": null,
            "align_self": null,
            "height": null,
            "min_height": null,
            "padding": null,
            "grid_auto_rows": null,
            "grid_gap": null,
            "max_width": null,
            "order": null,
            "_view_module_version": "1.2.0",
            "grid_template_areas": null,
            "object_position": null,
            "object_fit": null,
            "grid_auto_columns": null,
            "margin": null,
            "display": null,
            "left": null
          }
        },
        "d16c2ee4a8a34f72b9df02581609d91f": {
          "model_module": "@jupyter-widgets/controls",
          "model_name": "DescriptionStyleModel",
          "state": {
            "_view_name": "StyleView",
            "_model_name": "DescriptionStyleModel",
            "description_width": "",
            "_view_module": "@jupyter-widgets/base",
            "_model_module_version": "1.5.0",
            "_view_count": null,
            "_view_module_version": "1.2.0",
            "_model_module": "@jupyter-widgets/controls"
          }
        },
        "f8c81717a6744f6689c4f5298f6ad0f5": {
          "model_module": "@jupyter-widgets/base",
          "model_name": "LayoutModel",
          "state": {
            "_view_name": "LayoutView",
            "grid_template_rows": null,
            "right": null,
            "justify_content": null,
            "_view_module": "@jupyter-widgets/base",
            "overflow": null,
            "_model_module_version": "1.2.0",
            "_view_count": null,
            "flex_flow": null,
            "width": null,
            "min_width": null,
            "border": null,
            "align_items": null,
            "bottom": null,
            "_model_module": "@jupyter-widgets/base",
            "top": null,
            "grid_column": null,
            "overflow_y": null,
            "overflow_x": null,
            "grid_auto_flow": null,
            "grid_area": null,
            "grid_template_columns": null,
            "flex": null,
            "_model_name": "LayoutModel",
            "justify_items": null,
            "grid_row": null,
            "max_height": null,
            "align_content": null,
            "visibility": null,
            "align_self": null,
            "height": null,
            "min_height": null,
            "padding": null,
            "grid_auto_rows": null,
            "grid_gap": null,
            "max_width": null,
            "order": null,
            "_view_module_version": "1.2.0",
            "grid_template_areas": null,
            "object_position": null,
            "object_fit": null,
            "grid_auto_columns": null,
            "margin": null,
            "display": null,
            "left": null
          }
        }
      }
    }
  },
  "cells": [
    {
      "cell_type": "markdown",
      "metadata": {
        "id": "view-in-github",
        "colab_type": "text"
      },
      "source": [
        "<a href=\"https://colab.research.google.com/github/shamali18/Stock-Price-Prediction/blob/main/Proj_news.ipynb\" target=\"_parent\"><img src=\"https://colab.research.google.com/assets/colab-badge.svg\" alt=\"Open In Colab\"/></a>"
      ]
    },
    {
      "cell_type": "code",
      "metadata": {
        "colab": {
          "base_uri": "https://localhost:8080/"
        },
        "id": "QZGtV2lL-Nh2",
        "outputId": "e32107a5-3f71-4e95-8aa9-4e3cdb63ccd9"
      },
      "source": [
        "!pip install transformers==3.1.0"
      ],
      "execution_count": null,
      "outputs": [
        {
          "output_type": "stream",
          "text": [
            "Collecting transformers==3.1.0\n",
            "\u001b[?25l  Downloading https://files.pythonhosted.org/packages/ae/05/c8c55b600308dc04e95100dc8ad8a244dd800fe75dfafcf1d6348c6f6209/transformers-3.1.0-py3-none-any.whl (884kB)\n",
            "\u001b[K     |████████████████████████████████| 890kB 5.8MB/s \n",
            "\u001b[?25hCollecting tokenizers==0.8.1.rc2\n",
            "\u001b[?25l  Downloading https://files.pythonhosted.org/packages/80/83/8b9fccb9e48eeb575ee19179e2bdde0ee9a1904f97de5f02d19016b8804f/tokenizers-0.8.1rc2-cp36-cp36m-manylinux1_x86_64.whl (3.0MB)\n",
            "\u001b[K     |████████████████████████████████| 3.0MB 27.7MB/s \n",
            "\u001b[?25hCollecting sacremoses\n",
            "\u001b[?25l  Downloading https://files.pythonhosted.org/packages/7d/34/09d19aff26edcc8eb2a01bed8e98f13a1537005d31e95233fd48216eed10/sacremoses-0.0.43.tar.gz (883kB)\n",
            "\u001b[K     |████████████████████████████████| 890kB 44.1MB/s \n",
            "\u001b[?25hRequirement already satisfied: dataclasses; python_version < \"3.7\" in /usr/local/lib/python3.6/dist-packages (from transformers==3.1.0) (0.8)\n",
            "Collecting sentencepiece!=0.1.92\n",
            "\u001b[?25l  Downloading https://files.pythonhosted.org/packages/e5/2d/6d4ca4bef9a67070fa1cac508606328329152b1df10bdf31fb6e4e727894/sentencepiece-0.1.94-cp36-cp36m-manylinux2014_x86_64.whl (1.1MB)\n",
            "\u001b[K     |████████████████████████████████| 1.1MB 43.1MB/s \n",
            "\u001b[?25hRequirement already satisfied: tqdm>=4.27 in /usr/local/lib/python3.6/dist-packages (from transformers==3.1.0) (4.41.1)\n",
            "Requirement already satisfied: packaging in /usr/local/lib/python3.6/dist-packages (from transformers==3.1.0) (20.4)\n",
            "Requirement already satisfied: numpy in /usr/local/lib/python3.6/dist-packages (from transformers==3.1.0) (1.18.5)\n",
            "Requirement already satisfied: requests in /usr/local/lib/python3.6/dist-packages (from transformers==3.1.0) (2.23.0)\n",
            "Requirement already satisfied: regex!=2019.12.17 in /usr/local/lib/python3.6/dist-packages (from transformers==3.1.0) (2019.12.20)\n",
            "Requirement already satisfied: filelock in /usr/local/lib/python3.6/dist-packages (from transformers==3.1.0) (3.0.12)\n",
            "Requirement already satisfied: six in /usr/local/lib/python3.6/dist-packages (from sacremoses->transformers==3.1.0) (1.15.0)\n",
            "Requirement already satisfied: click in /usr/local/lib/python3.6/dist-packages (from sacremoses->transformers==3.1.0) (7.1.2)\n",
            "Requirement already satisfied: joblib in /usr/local/lib/python3.6/dist-packages (from sacremoses->transformers==3.1.0) (0.17.0)\n",
            "Requirement already satisfied: pyparsing>=2.0.2 in /usr/local/lib/python3.6/dist-packages (from packaging->transformers==3.1.0) (2.4.7)\n",
            "Requirement already satisfied: certifi>=2017.4.17 in /usr/local/lib/python3.6/dist-packages (from requests->transformers==3.1.0) (2020.11.8)\n",
            "Requirement already satisfied: idna<3,>=2.5 in /usr/local/lib/python3.6/dist-packages (from requests->transformers==3.1.0) (2.10)\n",
            "Requirement already satisfied: chardet<4,>=3.0.2 in /usr/local/lib/python3.6/dist-packages (from requests->transformers==3.1.0) (3.0.4)\n",
            "Requirement already satisfied: urllib3!=1.25.0,!=1.25.1,<1.26,>=1.21.1 in /usr/local/lib/python3.6/dist-packages (from requests->transformers==3.1.0) (1.24.3)\n",
            "Building wheels for collected packages: sacremoses\n",
            "  Building wheel for sacremoses (setup.py) ... \u001b[?25l\u001b[?25hdone\n",
            "  Created wheel for sacremoses: filename=sacremoses-0.0.43-cp36-none-any.whl size=893257 sha256=8d5f69023f8e85c187a3465e6016156670849e04008e782c4077ed039e94611b\n",
            "  Stored in directory: /root/.cache/pip/wheels/29/3c/fd/7ce5c3f0666dab31a50123635e6fb5e19ceb42ce38d4e58f45\n",
            "Successfully built sacremoses\n",
            "Installing collected packages: tokenizers, sacremoses, sentencepiece, transformers\n",
            "Successfully installed sacremoses-0.0.43 sentencepiece-0.1.94 tokenizers-0.8.1rc2 transformers-3.1.0\n"
          ],
          "name": "stdout"
        }
      ]
    },
    {
      "cell_type": "code",
      "metadata": {
        "colab": {
          "base_uri": "https://localhost:8080/",
          "height": 289,
          "referenced_widgets": [
            "cf80b280708d45f29c1d0f610dcd5590",
            "a3d80aacd6294975997bd4cddb46fcda",
            "ac530cf397a74c268d1d79b1707e40a2",
            "62a47a9206e04800abdc34524450f4dd",
            "dfc2e975970c40c89683997c891b11ff",
            "c2136fa7c79e4399852a29daaa0dad48",
            "27328de68ce04e578d3fb19787590c08",
            "43040eddc97e4adca01c99087672172a",
            "8856bb2879c347618e002d1d85a8879f",
            "95fa9b5a0dc548faafbd05f42bf93cd4",
            "09b6b93fb0064af0b7a70919e043fea5",
            "6aac13da0c334c73b4efb25ee764d6c0",
            "c760bf7bfae04d19b7c4756efb289949",
            "c864f32760ed48eb90995535edf122a7",
            "4e201dd0bdf646398ad3453605823494",
            "5abf25c0190540d691e7c96d396c832b",
            "f817ce48407c4d4388ba08587b852ca8",
            "afae7c87b9b341298d73be12db89423a",
            "0e70f7c5dfd04919afb45699b465f89d",
            "5f8011b0a41c4c3ca28a01ecd772d638",
            "28de9fd515854fda87893cb092fb821c",
            "18e5ff54469642ec9a79993099bc8c2b",
            "ed0d0f3e3c324bceb900c44ffa64fd1a",
            "9db1fb4a8b3d4535b69237a68202d0cd",
            "5af07bc6daaf4308bd1795522d9cbac3",
            "2147c84adba74b8887c8b3c670f5efd2",
            "261a459d94e34b24a37867e68d96dfc3",
            "f56a2be7437f4341be6ade6123453f48",
            "50a2a65472224c96893214c2aacd06ec",
            "b3651048913a40fb88a64ab913587c26",
            "d16c2ee4a8a34f72b9df02581609d91f",
            "f8c81717a6744f6689c4f5298f6ad0f5"
          ]
        },
        "id": "PW3FagDY-gei",
        "outputId": "65997153-266c-45ca-dd41-f8216549bcb1"
      },
      "source": [
        "# Importing necessary libraries for Beautiful Soup\n",
        "import requests\n",
        "from bs4 import BeautifulSoup\n",
        "from transformers import pipeline\n",
        "classifier = pipeline(\"zero-shot-classification\")\n",
        "import re"
      ],
      "execution_count": null,
      "outputs": [
        {
          "output_type": "display_data",
          "data": {
            "application/vnd.jupyter.widget-view+json": {
              "model_id": "cf80b280708d45f29c1d0f610dcd5590",
              "version_minor": 0,
              "version_major": 2
            },
            "text/plain": [
              "HBox(children=(FloatProgress(value=0.0, description='Downloading', max=908.0, style=ProgressStyle(description_…"
            ]
          },
          "metadata": {
            "tags": []
          }
        },
        {
          "output_type": "stream",
          "text": [
            "\n"
          ],
          "name": "stdout"
        },
        {
          "output_type": "display_data",
          "data": {
            "application/vnd.jupyter.widget-view+json": {
              "model_id": "8856bb2879c347618e002d1d85a8879f",
              "version_minor": 0,
              "version_major": 2
            },
            "text/plain": [
              "HBox(children=(FloatProgress(value=0.0, description='Downloading', max=898823.0, style=ProgressStyle(descripti…"
            ]
          },
          "metadata": {
            "tags": []
          }
        },
        {
          "output_type": "stream",
          "text": [
            "\n"
          ],
          "name": "stdout"
        },
        {
          "output_type": "display_data",
          "data": {
            "application/vnd.jupyter.widget-view+json": {
              "model_id": "f817ce48407c4d4388ba08587b852ca8",
              "version_minor": 0,
              "version_major": 2
            },
            "text/plain": [
              "HBox(children=(FloatProgress(value=0.0, description='Downloading', max=456318.0, style=ProgressStyle(descripti…"
            ]
          },
          "metadata": {
            "tags": []
          }
        },
        {
          "output_type": "stream",
          "text": [
            "\n"
          ],
          "name": "stdout"
        },
        {
          "output_type": "display_data",
          "data": {
            "application/vnd.jupyter.widget-view+json": {
              "model_id": "5af07bc6daaf4308bd1795522d9cbac3",
              "version_minor": 0,
              "version_major": 2
            },
            "text/plain": [
              "HBox(children=(FloatProgress(value=0.0, description='Downloading', max=1629486723.0, style=ProgressStyle(descr…"
            ]
          },
          "metadata": {
            "tags": []
          }
        },
        {
          "output_type": "stream",
          "text": [
            "\n"
          ],
          "name": "stdout"
        },
        {
          "output_type": "stream",
          "text": [
            "Some weights of the model checkpoint at facebook/bart-large-mnli were not used when initializing BartForSequenceClassification: ['model.encoder.version', 'model.decoder.version']\n",
            "- This IS expected if you are initializing BartForSequenceClassification from the checkpoint of a model trained on another task or with another architecture (e.g. initializing a BertForSequenceClassification model from a BertForPretraining model).\n",
            "- This IS NOT expected if you are initializing BartForSequenceClassification from the checkpoint of a model that you expect to be exactly identical (initializing a BertForSequenceClassification model from a BertForSequenceClassification model).\n"
          ],
          "name": "stderr"
        }
      ]
    },
    {
      "cell_type": "code",
      "metadata": {
        "id": "eeW6csqrsCj8"
      },
      "source": [
        "import matplotlib.pyplot as plot\n",
        "import pandas as pd"
      ],
      "execution_count": null,
      "outputs": []
    },
    {
      "cell_type": "code",
      "metadata": {
        "id": "k88YzW339z2r"
      },
      "source": [
        "ual_url = 'https://www.google.com/search?rlz=1C1CHBF_enUS862US862&biw=1536&bih=722&tbm=nws&sxsrf=ALeKk00r7IQ8Scv4Phk2VVA01kXj4QbWBw%3A1606636032947&ei=AFLDX9qlOaeOwbkPu8mx-AI&q=ual+stock&oq=ual+stock&gs_l=psy-ab.3...2529.7250.0.7506.0.0.0.0.0.0.0.0..0.0....0...1.1.64.psy-ab..0.0.0....0.w9BJQIdoqnU'\n",
        "dal_url = 'https://www.google.com/search?rlz=1C1CHBF_enUS862US862&biw=1536&bih=722&tbm=nws&sxsrf=ALeKk00r7IQ8Scv4Phk2VVA01kXj4QbWBw%3A1606636032947&ei=AFLDX9qlOaeOwbkPu8mx-AI&q=dal+stock&oq=dal+stock&gs_l=psy-ab.3...2529.7250.0.7506.0.0.0.0.0.0.0.0..0.0....0...1.1.64.psy-ab..0.0.0....0.w9BJQIdoqnU'\n",
        "alk_url = 'https://www.google.com/search?rlz=1C1CHBF_enUS862US862&biw=1536&bih=722&tbm=nws&sxsrf=ALeKk00r7IQ8Scv4Phk2VVA01kXj4QbWBw%3A1606636032947&ei=AFLDX9qlOaeOwbkPu8mx-AI&q=alk+stock&oq=alk+stock&gs_l=psy-ab.3...2529.7250.0.7506.0.0.0.0.0.0.0.0..0.0....0...1.1.64.psy-ab..0.0.0....0.w9BJQIdoqnU'\n",
        "luv_url = 'https://www.google.com/search?rlz=1C1CHBF_enUS862US862&biw=1536&bih=722&tbm=nws&sxsrf=ALeKk00r7IQ8Scv4Phk2VVA01kXj4QbWBw%3A1606636032947&ei=AFLDX9qlOaeOwbkPu8mx-AI&q=luv+stock&oq=luv+stock&gs_l=psy-ab.3...2529.7250.0.7506.0.0.0.0.0.0.0.0..0.0....0...1.1.64.psy-ab..0.0.0....0.w9BJQIdoqnU'"
      ],
      "execution_count": null,
      "outputs": []
    },
    {
      "cell_type": "code",
      "metadata": {
        "id": "nN3fkc3rrKmT"
      },
      "source": [
        "candidate_labels = [\"positive\", \"negative\"]"
      ],
      "execution_count": null,
      "outputs": []
    },
    {
      "cell_type": "code",
      "metadata": {
        "id": "X53qNMfyWVcv"
      },
      "source": [
        "def classifyNews(url):\n",
        "  page = requests.get(url)\n",
        "  soup = BeautifulSoup(page.content, 'html.parser')\n",
        "  results_str = soup.find_all('div')\n",
        "  res_str = str(results_str)\n",
        "  clean = re.compile('(?s)<style>(.*?)<\\/style>|<.*?>|&([a-z0-9]+|#[0-9]{1,6}|#x[0-9a-f]{1,6});|{.*?}')\n",
        "  clean_text = re.sub(clean, '', res_str)\n",
        "  clean_text1 = re.sub(r'[^A-Za-z]+', ' ', clean_text)\n",
        "  return classifier(clean_text1, candidate_labels)\n"
      ],
      "execution_count": null,
      "outputs": []
    },
    {
      "cell_type": "code",
      "metadata": {
        "id": "LWL_V8RUWVfw"
      },
      "source": [
        "ual_news = classifyNews(ual_url)"
      ],
      "execution_count": null,
      "outputs": []
    },
    {
      "cell_type": "code",
      "metadata": {
        "colab": {
          "base_uri": "https://localhost:8080/"
        },
        "id": "URSwx45JWVi5",
        "outputId": "8b86af64-2395-47c9-c1e2-8345704e576c"
      },
      "source": [
        "ual_news"
      ],
      "execution_count": null,
      "outputs": [
        {
          "output_type": "execute_result",
          "data": {
            "text/plain": [
              "{'labels': ['positive', 'negative'],\n",
              " 'scores': [0.5144776105880737, 0.4855223596096039],\n",
              " 'sequence': ' Google Please click here if you are not redirected within a few seconds AllNewsBooksShopping Images Maps Videos Search tools All newsAll newsBlogsRecentRecentPast hourPast hoursPast weekPast monthPast yearArchivesSorted by relevanceSorted by relevanceSorted by date function call this Is There A Hidden Opportunity In UAL Stock Forbes week ago The shares of United Airlines surged in the past week triggered by hopes of a successful vaccine by early next year We believe that there United Airlines Holdings Inc UAL is lower this YTD Is it still time to buy The DBT News mins ago Raymond James have made an estimate for United Airlines Holdings Inc shares keeping their opinion on the stock as Outperform with their Why United Airlines Is RayJay s Top Airline Pick For Travel RecoveryYahoo Finance day ago United Airlines Holdings Inc NASDAQ UAL upgraded from Market Related Link Airline Stocks To Buy According To Seaport Global Airline Stock Roundup UAL s Bleak Update CPA s Q Loss GOL ALK in FocusYahoo Finance week ago In the past week United Airlines UAL management revealed that the carrier witnessed a slowdown in in system bookings and an uptick in Airline Stocks American Airlines United Airlines Fly Under The Investor s Business Daily day ago The announcement follows a report from the Wall Street Journal on Friday saying that United Airlines UAL had begun running charter flights to Spirit Airline SAVE United Airline UAL Stock Surged Quicker Recovery Will Be The Key To GrowthThe DBT News days ago Spirit Airline SAVE United Airline UAL Stock Surged Quicker Recovery Will Be The Key To Growth By Admin November United Airlines Holdings Inc NASDAQ UAL EVP Sells in StockMarketBeat days ago NASDAQ UAL EVP Kate Gebo sold shares of United Airlines stock in a transaction that occurred on Wednesday November th The United Airlines stock turns negative after M share offeringSeeking Alpha week ago United Airlines UAL plans to offer up to M shares to raise capital The stock was rallying before the bell along with other airlines as United Airlines Trump Was Right and Buffett Was WrongInvestorplace com week ago United Airlines Stock and Buffett s Philosophy I was very puzzled when Buffett sold airline stocks in early Buffett is well known for his Airline Stock Reverses Earlier Gains Despite Lofty UpgradeSchaeffers Research day ago The shares of United Airlines Holdings Inc NASDAQ UAL are down at at last check backpedaling earlier gains after the Next Sign inSettingsPrivacyTerms function l w h null g function a m function a var n q function catch c n a else n a return n var u function a b v function a t r var x function a b y function a aa function b v new u r complete search if z test b throw Error a b var c b replace A function d e return B c A g z https a z about blank i ba s S w B function a C function a b c return b var E function a b c F function a D ca function a da new E f trustedTypes f trustedTypes emptyHTML D var ea function a function fa function a b var G document querySelector l H document querySelector sf I H querySelector sbc J H querySelector type text K H querySelector type submit L H querySelector sc M H querySelector x N J value O P Q N R S U N M M style display none V function V a function W function X undefined typeof ds ds a ds ds var b document var c SCRIPT application xhtml xml b contentType c c toLowerCase c b createElement c b aa b ba exec y b toString var d b a B b C b a C d void c src y a a k c ownerDocument c ownerDocument defaultView c setAttribute nonce a a k c setAttribute nonce a document body appendChild c S null R setTimeout X function Y function Z J addEventListener focus function J addEventListener blur function J addEventListener keyup function a K addEventListener click W M addEventListener click function I addEventListener click function window hS function a c c replace g d addEventListener click function p b L appendChild d V O push c call this function document addEventListener click b document addEventListener touchStart b call this AllNewsBooksShopping Images Maps Videos Search tools All newsAll newsBlogsRecentRecentPast hourPast hoursPast weekPast monthPast yearArchivesSorted by relevanceSorted by relevanceSorted by date function call this AllNewsBooksShopping Images Maps Videos Search tools AllNewsBooksShopping Images Maps Videos Search tools AllNewsBooksShopping Images Maps Videos Search tools AllNewsBooksShopping Images Maps Videos Search tools Search tools All newsAll newsBlogsRecentRecentPast hourPast hoursPast weekPast monthPast yearArchivesSorted by relevanceSorted by relevanceSorted by date function call this All newsAll newsBlogsRecentRecentPast hourPast hoursPast weekPast monthPast yearArchivesSorted by relevanceSorted by relevanceSorted by date All newsAll newsBlogsRecentRecentPast hourPast hoursPast weekPast monthPast yearArchivesSorted by relevanceSorted by relevanceSorted by date All newsAll newsBlogsRecentRecentPast hourPast hoursPast weekPast monthPast yearArchivesSorted by relevanceSorted by relevanceSorted by date All newsAll newsBlogs All news All news RecentRecentPast hourPast hoursPast weekPast monthPast yearArchives Recent Recent Sorted by relevanceSorted by relevanceSorted by date Sorted by relevance Sorted by relevance Is There A Hidden Opportunity In UAL Stock Forbes week ago The shares of United Airlines surged in the past week triggered by hopes of a successful vaccine by early next year We believe that there Is There A Hidden Opportunity In UAL Stock Forbes week ago The shares of United Airlines surged in the past week triggered by hopes of a successful vaccine by early next year We believe that there Is There A Hidden Opportunity In UAL Stock Forbes Is There A Hidden Opportunity In UAL Stock Forbes week ago The shares of United Airlines surged in the past week triggered by hopes of a successful vaccine by early next year We believe that there week ago The shares of United Airlines surged in the past week triggered by hopes of a successful vaccine by early next year We believe that there week ago The shares of United Airlines surged in the past week triggered by hopes of a successful vaccine by early next year We believe that there week ago The shares of United Airlines surged in the past week triggered by hopes of a successful vaccine by early next year We believe that there week ago The shares of United Airlines surged in the past week triggered by hopes of a successful vaccine by early next year We believe that there United Airlines Holdings Inc UAL is lower this YTD Is it still time to buy The DBT News mins ago Raymond James have made an estimate for United Airlines Holdings Inc shares keeping their opinion on the stock as Outperform with their United Airlines Holdings Inc UAL is lower this YTD Is it still time to buy The DBT News mins ago Raymond James have made an estimate for United Airlines Holdings Inc shares keeping their opinion on the stock as Outperform with their United Airlines Holdings Inc UAL is lower this YTD Is it still time to buy The DBT News United Airlines Holdings Inc UAL is lower this YTD Is it still time to buy The DBT News mins ago Raymond James have made an estimate for United Airlines Holdings Inc shares keeping their opinion on the stock as Outperform with their mins ago Raymond James have made an estimate for United Airlines Holdings Inc shares keeping their opinion on the stock as Outperform with their mins ago Raymond James have made an estimate for United Airlines Holdings Inc shares keeping their opinion on the stock as Outperform with their mins ago Raymond James have made an estimate for United Airlines Holdings Inc shares keeping their opinion on the stock as Outperform with their mins ago Raymond James have made an estimate for United Airlines Holdings Inc shares keeping their opinion on the stock as Outperform with their Why United Airlines Is RayJay s Top Airline Pick For Travel RecoveryYahoo Finance day ago United Airlines Holdings Inc NASDAQ UAL upgraded from Market Related Link Airline Stocks To Buy According To Seaport Global Why United Airlines Is RayJay s Top Airline Pick For Travel RecoveryYahoo Finance day ago United Airlines Holdings Inc NASDAQ UAL upgraded from Market Related Link Airline Stocks To Buy According To Seaport Global Why United Airlines Is RayJay s Top Airline Pick For Travel RecoveryYahoo Finance Why United Airlines Is RayJay s Top Airline Pick For Travel Recovery Yahoo Finance day ago United Airlines Holdings Inc NASDAQ UAL upgraded from Market Related Link Airline Stocks To Buy According To Seaport Global day ago United Airlines Holdings Inc NASDAQ UAL upgraded from Market Related Link Airline Stocks To Buy According To Seaport Global day ago United Airlines Holdings Inc NASDAQ UAL upgraded from Market Related Link Airline Stocks To Buy According To Seaport Global day ago United Airlines Holdings Inc NASDAQ UAL upgraded from Market Related Link Airline Stocks To Buy According To Seaport Global day ago United Airlines Holdings Inc NASDAQ UAL upgraded from Market Related Link Airline Stocks To Buy According To Seaport Global Airline Stock Roundup UAL s Bleak Update CPA s Q Loss GOL ALK in FocusYahoo Finance week ago In the past week United Airlines UAL management revealed that the carrier witnessed a slowdown in in system bookings and an uptick in Airline Stock Roundup UAL s Bleak Update CPA s Q Loss GOL ALK in FocusYahoo Finance week ago In the past week United Airlines UAL management revealed that the carrier witnessed a slowdown in in system bookings and an uptick in Airline Stock Roundup UAL s Bleak Update CPA s Q Loss GOL ALK in FocusYahoo Finance Airline Stock Roundup UAL s Bleak Update CPA s Q Loss GOL ALK in Focus Yahoo Finance week ago In the past week United Airlines UAL management revealed that the carrier witnessed a slowdown in in system bookings and an uptick in week ago In the past week United Airlines UAL management revealed that the carrier witnessed a slowdown in in system bookings and an uptick in week ago In the past week United Airlines UAL management revealed that the carrier witnessed a slowdown in in system bookings and an uptick in week ago In the past week United Airlines UAL management revealed that the carrier witnessed a slowdown in in system bookings and an uptick in week ago In the past week United Airlines UAL management revealed that the carrier witnessed a slowdown in in system bookings and an uptick in Airline Stocks American Airlines United Airlines Fly Under The Investor s Business Daily day ago The announcement follows a report from the Wall Street Journal on Friday saying that United Airlines UAL had begun running charter flights to Airline Stocks American Airlines United Airlines Fly Under The Investor s Business Daily day ago The announcement follows a report from the Wall Street Journal on Friday saying that United Airlines UAL had begun running charter flights to Airline Stocks American Airlines United Airlines Fly Under The Investor s Business Daily Airline Stocks American Airlines United Airlines Fly Under The Investor s Business Daily day ago The announcement follows a report from the Wall Street Journal on Friday saying that United Airlines UAL had begun running charter flights to day ago The announcement follows a report from the Wall Street Journal on Friday saying that United Airlines UAL had begun running charter flights to day ago The announcement follows a report from the Wall Street Journal on Friday saying that United Airlines UAL had begun running charter flights to day ago The announcement follows a report from the Wall Street Journal on Friday saying that United Airlines UAL had begun running charter flights to day ago The announcement follows a report from the Wall Street Journal on Friday saying that United Airlines UAL had begun running charter flights to Spirit Airline SAVE United Airline UAL Stock Surged Quicker Recovery Will Be The Key To GrowthThe DBT News days ago Spirit Airline SAVE United Airline UAL Stock Surged Quicker Recovery Will Be The Key To Growth By Admin November Spirit Airline SAVE United Airline UAL Stock Surged Quicker Recovery Will Be The Key To GrowthThe DBT News days ago Spirit Airline SAVE United Airline UAL Stock Surged Quicker Recovery Will Be The Key To Growth By Admin November Spirit Airline SAVE United Airline UAL Stock Surged Quicker Recovery Will Be The Key To GrowthThe DBT News Spirit Airline SAVE United Airline UAL Stock Surged Quicker Recovery Will Be The Key To Growth The DBT News days ago Spirit Airline SAVE United Airline UAL Stock Surged Quicker Recovery Will Be The Key To Growth By Admin November days ago Spirit Airline SAVE United Airline UAL Stock Surged Quicker Recovery Will Be The Key To Growth By Admin November days ago Spirit Airline SAVE United Airline UAL Stock Surged Quicker Recovery Will Be The Key To Growth By Admin November days ago Spirit Airline SAVE United Airline UAL Stock Surged Quicker Recovery Will Be The Key To Growth By Admin November days ago Spirit Airline SAVE United Airline UAL Stock Surged Quicker Recovery Will Be The Key To Growth By Admin November United Airlines Holdings Inc NASDAQ UAL EVP Sells in StockMarketBeat days ago NASDAQ UAL EVP Kate Gebo sold shares of United Airlines stock in a transaction that occurred on Wednesday November th The United Airlines Holdings Inc NASDAQ UAL EVP Sells in StockMarketBeat days ago NASDAQ UAL EVP Kate Gebo sold shares of United Airlines stock in a transaction that occurred on Wednesday November th The United Airlines Holdings Inc NASDAQ UAL EVP Sells in StockMarketBeat United Airlines Holdings Inc NASDAQ UAL EVP Sells in Stock MarketBeat days ago NASDAQ UAL EVP Kate Gebo sold shares of United Airlines stock in a transaction that occurred on Wednesday November th The days ago NASDAQ UAL EVP Kate Gebo sold shares of United Airlines stock in a transaction that occurred on Wednesday November th The days ago NASDAQ UAL EVP Kate Gebo sold shares of United Airlines stock in a transaction that occurred on Wednesday November th The days ago NASDAQ UAL EVP Kate Gebo sold shares of United Airlines stock in a transaction that occurred on Wednesday November th The days ago NASDAQ UAL EVP Kate Gebo sold shares of United Airlines stock in a transaction that occurred on Wednesday November th The United Airlines stock turns negative after M share offeringSeeking Alpha week ago United Airlines UAL plans to offer up to M shares to raise capital The stock was rallying before the bell along with other airlines as United Airlines stock turns negative after M share offeringSeeking Alpha week ago United Airlines UAL plans to offer up to M shares to raise capital The stock was rallying before the bell along with other airlines as United Airlines stock turns negative after M share offeringSeeking Alpha United Airlines stock turns negative after M share offering Seeking Alpha week ago United Airlines UAL plans to offer up to M shares to raise capital The stock was rallying before the bell along with other airlines as week ago United Airlines UAL plans to offer up to M shares to raise capital The stock was rallying before the bell along with other airlines as week ago United Airlines UAL plans to offer up to M shares to raise capital The stock was rallying before the bell along with other airlines as week ago United Airlines UAL plans to offer up to M shares to raise capital The stock was rallying before the bell along with other airlines as week ago United Airlines UAL plans to offer up to M shares to raise capital The stock was rallying before the bell along with other airlines as United Airlines Trump Was Right and Buffett Was WrongInvestorplace com week ago United Airlines Stock and Buffett s Philosophy I was very puzzled when Buffett sold airline stocks in early Buffett is well known for his United Airlines Trump Was Right and Buffett Was WrongInvestorplace com week ago United Airlines Stock and Buffett s Philosophy I was very puzzled when Buffett sold airline stocks in early Buffett is well known for his United Airlines Trump Was Right and Buffett Was WrongInvestorplace com United Airlines Trump Was Right and Buffett Was Wrong Investorplace com week ago United Airlines Stock and Buffett s Philosophy I was very puzzled when Buffett sold airline stocks in early Buffett is well known for his week ago United Airlines Stock and Buffett s Philosophy I was very puzzled when Buffett sold airline stocks in early Buffett is well known for his week ago United Airlines Stock and Buffett s Philosophy I was very puzzled when Buffett sold airline stocks in early Buffett is well known for his week ago United Airlines Stock and Buffett s Philosophy I was very puzzled when Buffett sold airline stocks in early Buffett is well known for his week ago United Airlines Stock and Buffett s Philosophy I was very puzzled when Buffett sold airline stocks in early Buffett is well known for his Airline Stock Reverses Earlier Gains Despite Lofty UpgradeSchaeffers Research day ago The shares of United Airlines Holdings Inc NASDAQ UAL are down at at last check backpedaling earlier gains after the Airline Stock Reverses Earlier Gains Despite Lofty UpgradeSchaeffers Research day ago The shares of United Airlines Holdings Inc NASDAQ UAL are down at at last check backpedaling earlier gains after the Airline Stock Reverses Earlier Gains Despite Lofty UpgradeSchaeffers Research Airline Stock Reverses Earlier Gains Despite Lofty Upgrade Schaeffers Research day ago The shares of United Airlines Holdings Inc NASDAQ UAL are down at at last check backpedaling earlier gains after the day ago The shares of United Airlines Holdings Inc NASDAQ UAL are down at at last check backpedaling earlier gains after the day ago The shares of United Airlines Holdings Inc NASDAQ UAL are down at at last check backpedaling earlier gains after the day ago The shares of United Airlines Holdings Inc NASDAQ UAL are down at at last check backpedaling earlier gains after the day ago The shares of United Airlines Holdings Inc NASDAQ UAL are down at at last check backpedaling earlier gains after the Next Next Next Sign inSettingsPrivacyTerms Sign in SettingsPrivacyTerms '}"
            ]
          },
          "metadata": {
            "tags": []
          },
          "execution_count": 27
        }
      ]
    },
    {
      "cell_type": "code",
      "metadata": {
        "colab": {
          "base_uri": "https://localhost:8080/",
          "height": 442
        },
        "id": "VG8TTYAjsMgL",
        "outputId": "fac61aff-3dc9-40be-fe6b-0aad263a7fa5"
      },
      "source": [
        "ual_plot = pd.DataFrame(ual_news)\n",
        "ual_plot.plot.bar(x=\"labels\", y=\"scores\",  rot=360, figsize=(10,7), color='navy');"
      ],
      "execution_count": null,
      "outputs": [
        {
          "output_type": "display_data",
          "data": {
            "image/png": "[encoded data removed]",
            "text/plain": [
              "<Figure size 720x504 with 1 Axes>"
            ]
          },
          "metadata": {
            "tags": [],
            "needs_background": "light"
          }
        }
      ]
    },
    {
      "cell_type": "code",
      "metadata": {
        "id": "Y369QRz6WVln"
      },
      "source": [
        "dal_news = classifyNews(dal_url)"
      ],
      "execution_count": null,
      "outputs": []
    },
    {
      "cell_type": "code",
      "metadata": {
        "colab": {
          "base_uri": "https://localhost:8080/"
        },
        "id": "T9Q5NGHRrdQw",
        "outputId": "7f1a7a0a-72cb-4c2c-f82d-cbd6753d4e74"
      },
      "source": [
        "dal_news"
      ],
      "execution_count": null,
      "outputs": [
        {
          "output_type": "execute_result",
          "data": {
            "text/plain": [
              "{'labels': ['positive', 'negative'],\n",
              " 'scores': [0.5985552668571472, 0.401444673538208],\n",
              " 'sequence': ' Google Please click here if you are not redirected within a few seconds AllNewsBooksShopping Images Maps Videos Search tools All newsAll newsBlogsRecentRecentPast hourPast hoursPast weekPast monthPast yearArchivesSorted by relevanceSorted by relevanceSorted by date function call this Delta Air Lines DAL Stock Sinks As Market Gains What You Should KnowNasdaq mins ago At the same time the Dow added and the tech heavy Nasdaq gained Coming into today shares of the airline had gained Survival Is Not the Issue for Delta Air LinesInvestorplace com week ago DAL stock will survive but the company has mortgaged its future to do it By Dana Blankenhorn InvestorPlace Contributor Nov pm Airlines Are Struggling but Delta Stock Is the Best of the Legacy CarriersInvestorplace com day ago DAL stock is one of the better options in a beaten down sector By Ian Bezek InvestorPlace Contributor Nov am EST Seize the Opportunity and Buy Delta Stock Before It s Clear Skies AheadInvestorplace com week ago Yes but it s complicated DAL stock Source Markus Mainka Shutterstock com How so Simply put this hard hit industry will eventually recover Speculate On Delta Air Lines After Bankruptcy Risks FadeInvestorplace com weeks ago The cautious investor would avoid DAL stock on its heavy debt load Delta and all the airline stocks are not for investors in need of safety Delta DAL Sees Narrower Revenue Decline Cash Burn for Q Yahoo Finance weeks ago Shares of Landstar Expeditors and FedEx have gained more than and so far this year respectively More Stock News This Is Were These Hedge Funds Wrong About Dumping Delta Air Lines Inc DAL Yahoo Finance weeks ago NYSE DAL a bargain The smart money was reducing their bets on the stock The number of long hedge fund positions were cut by in recent Why Delta Stock and Other Airlines Are Destined for Higher PricesInvestorplace com week ago DAL stock is itching for a breakout after Monday s jump and I have two ways for you to score profits Can Delta Air Lines Benefit From the Lessons of Investorplace com weeks ago Naturally DAL stock jumped on Pfizer s announcement as did multiple other companies Due to the poor management of the pandemic DAL Surges as Vaccine News Boosts Travel SectorSchaeffers Research weeks ago The shares of Delta Air Lines Inc NYSE DAL are up at On the charts Delta Air Lines stock has struggled to recover from a May Next Sign inSettingsPrivacyTerms function l w h null g function a m function a var n q function catch c n a else n a return n var u function a b v function a t r var x function a b y function a aa function b v new u r complete search if z test b throw Error a b var c b replace A function d e return B c A g z https a z about blank i ba s S w B function a C function a b c return b var E function a b c F function a D ca function a da new E f trustedTypes f trustedTypes emptyHTML D var ea function a function fa function a b var G document querySelector l H document querySelector sf I H querySelector sbc J H querySelector type text K H querySelector type submit L H querySelector sc M H querySelector x N J value O P Q N R S U N M M style display none V function V a function W function X undefined typeof ds ds a ds ds var b document var c SCRIPT application xhtml xml b contentType c c toLowerCase c b createElement c b aa b ba exec y b toString var d b a B b C b a C d void c src y a a k c ownerDocument c ownerDocument defaultView c setAttribute nonce a a k c setAttribute nonce a document body appendChild c S null R setTimeout X function Y function Z J addEventListener focus function J addEventListener blur function J addEventListener keyup function a K addEventListener click W M addEventListener click function I addEventListener click function window hS function a c c replace g d addEventListener click function p b L appendChild d V O push c call this function document addEventListener click b document addEventListener touchStart b call this AllNewsBooksShopping Images Maps Videos Search tools All newsAll newsBlogsRecentRecentPast hourPast hoursPast weekPast monthPast yearArchivesSorted by relevanceSorted by relevanceSorted by date function call this AllNewsBooksShopping Images Maps Videos Search tools AllNewsBooksShopping Images Maps Videos Search tools AllNewsBooksShopping Images Maps Videos Search tools AllNewsBooksShopping Images Maps Videos Search tools Search tools All newsAll newsBlogsRecentRecentPast hourPast hoursPast weekPast monthPast yearArchivesSorted by relevanceSorted by relevanceSorted by date function call this All newsAll newsBlogsRecentRecentPast hourPast hoursPast weekPast monthPast yearArchivesSorted by relevanceSorted by relevanceSorted by date All newsAll newsBlogsRecentRecentPast hourPast hoursPast weekPast monthPast yearArchivesSorted by relevanceSorted by relevanceSorted by date All newsAll newsBlogsRecentRecentPast hourPast hoursPast weekPast monthPast yearArchivesSorted by relevanceSorted by relevanceSorted by date All newsAll newsBlogs All news All news RecentRecentPast hourPast hoursPast weekPast monthPast yearArchives Recent Recent Sorted by relevanceSorted by relevanceSorted by date Sorted by relevance Sorted by relevance Delta Air Lines DAL Stock Sinks As Market Gains What You Should KnowNasdaq mins ago At the same time the Dow added and the tech heavy Nasdaq gained Coming into today shares of the airline had gained Delta Air Lines DAL Stock Sinks As Market Gains What You Should KnowNasdaq mins ago At the same time the Dow added and the tech heavy Nasdaq gained Coming into today shares of the airline had gained Delta Air Lines DAL Stock Sinks As Market Gains What You Should KnowNasdaq Delta Air Lines DAL Stock Sinks As Market Gains What You Should Know Nasdaq mins ago At the same time the Dow added and the tech heavy Nasdaq gained Coming into today shares of the airline had gained mins ago At the same time the Dow added and the tech heavy Nasdaq gained Coming into today shares of the airline had gained mins ago At the same time the Dow added and the tech heavy Nasdaq gained Coming into today shares of the airline had gained mins ago At the same time the Dow added and the tech heavy Nasdaq gained Coming into today shares of the airline had gained mins ago At the same time the Dow added and the tech heavy Nasdaq gained Coming into today shares of the airline had gained Survival Is Not the Issue for Delta Air LinesInvestorplace com week ago DAL stock will survive but the company has mortgaged its future to do it By Dana Blankenhorn InvestorPlace Contributor Nov pm Survival Is Not the Issue for Delta Air LinesInvestorplace com week ago DAL stock will survive but the company has mortgaged its future to do it By Dana Blankenhorn InvestorPlace Contributor Nov pm Survival Is Not the Issue for Delta Air LinesInvestorplace com Survival Is Not the Issue for Delta Air Lines Investorplace com week ago DAL stock will survive but the company has mortgaged its future to do it By Dana Blankenhorn InvestorPlace Contributor Nov pm week ago DAL stock will survive but the company has mortgaged its future to do it By Dana Blankenhorn InvestorPlace Contributor Nov pm week ago DAL stock will survive but the company has mortgaged its future to do it By Dana Blankenhorn InvestorPlace Contributor Nov pm week ago DAL stock will survive but the company has mortgaged its future to do it By Dana Blankenhorn InvestorPlace Contributor Nov pm week ago DAL stock will survive but the company has mortgaged its future to do it By Dana Blankenhorn InvestorPlace Contributor Nov pm Airlines Are Struggling but Delta Stock Is the Best of the Legacy CarriersInvestorplace com day ago DAL stock is one of the better options in a beaten down sector By Ian Bezek InvestorPlace Contributor Nov am EST Airlines Are Struggling but Delta Stock Is the Best of the Legacy CarriersInvestorplace com day ago DAL stock is one of the better options in a beaten down sector By Ian Bezek InvestorPlace Contributor Nov am EST Airlines Are Struggling but Delta Stock Is the Best of the Legacy CarriersInvestorplace com Airlines Are Struggling but Delta Stock Is the Best of the Legacy Carriers Investorplace com day ago DAL stock is one of the better options in a beaten down sector By Ian Bezek InvestorPlace Contributor Nov am EST day ago DAL stock is one of the better options in a beaten down sector By Ian Bezek InvestorPlace Contributor Nov am EST day ago DAL stock is one of the better options in a beaten down sector By Ian Bezek InvestorPlace Contributor Nov am EST day ago DAL stock is one of the better options in a beaten down sector By Ian Bezek InvestorPlace Contributor Nov am EST day ago DAL stock is one of the better options in a beaten down sector By Ian Bezek InvestorPlace Contributor Nov am EST Seize the Opportunity and Buy Delta Stock Before It s Clear Skies AheadInvestorplace com week ago Yes but it s complicated DAL stock Source Markus Mainka Shutterstock com How so Simply put this hard hit industry will eventually recover Seize the Opportunity and Buy Delta Stock Before It s Clear Skies AheadInvestorplace com week ago Yes but it s complicated DAL stock Source Markus Mainka Shutterstock com How so Simply put this hard hit industry will eventually recover Seize the Opportunity and Buy Delta Stock Before It s Clear Skies AheadInvestorplace com Seize the Opportunity and Buy Delta Stock Before It s Clear Skies Ahead Investorplace com week ago Yes but it s complicated DAL stock Source Markus Mainka Shutterstock com How so Simply put this hard hit industry will eventually recover week ago Yes but it s complicated DAL stock Source Markus Mainka Shutterstock com How so Simply put this hard hit industry will eventually recover week ago Yes but it s complicated DAL stock Source Markus Mainka Shutterstock com How so Simply put this hard hit industry will eventually recover week ago Yes but it s complicated DAL stock Source Markus Mainka Shutterstock com How so Simply put this hard hit industry will eventually recover week ago Yes but it s complicated DAL stock Source Markus Mainka Shutterstock com How so Simply put this hard hit industry will eventually recover Speculate On Delta Air Lines After Bankruptcy Risks FadeInvestorplace com weeks ago The cautious investor would avoid DAL stock on its heavy debt load Delta and all the airline stocks are not for investors in need of safety Speculate On Delta Air Lines After Bankruptcy Risks FadeInvestorplace com weeks ago The cautious investor would avoid DAL stock on its heavy debt load Delta and all the airline stocks are not for investors in need of safety Speculate On Delta Air Lines After Bankruptcy Risks FadeInvestorplace com Speculate On Delta Air Lines After Bankruptcy Risks Fade Investorplace com weeks ago The cautious investor would avoid DAL stock on its heavy debt load Delta and all the airline stocks are not for investors in need of safety weeks ago The cautious investor would avoid DAL stock on its heavy debt load Delta and all the airline stocks are not for investors in need of safety weeks ago The cautious investor would avoid DAL stock on its heavy debt load Delta and all the airline stocks are not for investors in need of safety weeks ago The cautious investor would avoid DAL stock on its heavy debt load Delta and all the airline stocks are not for investors in need of safety weeks ago The cautious investor would avoid DAL stock on its heavy debt load Delta and all the airline stocks are not for investors in need of safety Delta DAL Sees Narrower Revenue Decline Cash Burn for Q Yahoo Finance weeks ago Shares of Landstar Expeditors and FedEx have gained more than and so far this year respectively More Stock News This Is Delta DAL Sees Narrower Revenue Decline Cash Burn for Q Yahoo Finance weeks ago Shares of Landstar Expeditors and FedEx have gained more than and so far this year respectively More Stock News This Is Delta DAL Sees Narrower Revenue Decline Cash Burn for Q Yahoo Finance Delta DAL Sees Narrower Revenue Decline Cash Burn for Q Yahoo Finance weeks ago Shares of Landstar Expeditors and FedEx have gained more than and so far this year respectively More Stock News This Is weeks ago Shares of Landstar Expeditors and FedEx have gained more than and so far this year respectively More Stock News This Is weeks ago Shares of Landstar Expeditors and FedEx have gained more than and so far this year respectively More Stock News This Is weeks ago Shares of Landstar Expeditors and FedEx have gained more than and so far this year respectively More Stock News This Is weeks ago Shares of Landstar Expeditors and FedEx have gained more than and so far this year respectively More Stock News This Is Were These Hedge Funds Wrong About Dumping Delta Air Lines Inc DAL Yahoo Finance weeks ago NYSE DAL a bargain The smart money was reducing their bets on the stock The number of long hedge fund positions were cut by in recent Were These Hedge Funds Wrong About Dumping Delta Air Lines Inc DAL Yahoo Finance weeks ago NYSE DAL a bargain The smart money was reducing their bets on the stock The number of long hedge fund positions were cut by in recent Were These Hedge Funds Wrong About Dumping Delta Air Lines Inc DAL Yahoo Finance Were These Hedge Funds Wrong About Dumping Delta Air Lines Inc DAL Yahoo Finance weeks ago NYSE DAL a bargain The smart money was reducing their bets on the stock The number of long hedge fund positions were cut by in recent weeks ago NYSE DAL a bargain The smart money was reducing their bets on the stock The number of long hedge fund positions were cut by in recent weeks ago NYSE DAL a bargain The smart money was reducing their bets on the stock The number of long hedge fund positions were cut by in recent weeks ago NYSE DAL a bargain The smart money was reducing their bets on the stock The number of long hedge fund positions were cut by in recent weeks ago NYSE DAL a bargain The smart money was reducing their bets on the stock The number of long hedge fund positions were cut by in recent Why Delta Stock and Other Airlines Are Destined for Higher PricesInvestorplace com week ago DAL stock is itching for a breakout after Monday s jump and I have two ways for you to score profits Why Delta Stock and Other Airlines Are Destined for Higher PricesInvestorplace com week ago DAL stock is itching for a breakout after Monday s jump and I have two ways for you to score profits Why Delta Stock and Other Airlines Are Destined for Higher PricesInvestorplace com Why Delta Stock and Other Airlines Are Destined for Higher Prices Investorplace com week ago DAL stock is itching for a breakout after Monday s jump and I have two ways for you to score profits week ago DAL stock is itching for a breakout after Monday s jump and I have two ways for you to score profits week ago DAL stock is itching for a breakout after Monday s jump and I have two ways for you to score profits week ago DAL stock is itching for a breakout after Monday s jump and I have two ways for you to score profits week ago DAL stock is itching for a breakout after Monday s jump and I have two ways for you to score profits Can Delta Air Lines Benefit From the Lessons of Investorplace com weeks ago Naturally DAL stock jumped on Pfizer s announcement as did multiple other companies Due to the poor management of the pandemic Can Delta Air Lines Benefit From the Lessons of Investorplace com weeks ago Naturally DAL stock jumped on Pfizer s announcement as did multiple other companies Due to the poor management of the pandemic Can Delta Air Lines Benefit From the Lessons of Investorplace com Can Delta Air Lines Benefit From the Lessons of Investorplace com weeks ago Naturally DAL stock jumped on Pfizer s announcement as did multiple other companies Due to the poor management of the pandemic weeks ago Naturally DAL stock jumped on Pfizer s announcement as did multiple other companies Due to the poor management of the pandemic weeks ago Naturally DAL stock jumped on Pfizer s announcement as did multiple other companies Due to the poor management of the pandemic weeks ago Naturally DAL stock jumped on Pfizer s announcement as did multiple other companies Due to the poor management of the pandemic weeks ago Naturally DAL stock jumped on Pfizer s announcement as did multiple other companies Due to the poor management of the pandemic DAL Surges as Vaccine News Boosts Travel SectorSchaeffers Research weeks ago The shares of Delta Air Lines Inc NYSE DAL are up at On the charts Delta Air Lines stock has struggled to recover from a May DAL Surges as Vaccine News Boosts Travel SectorSchaeffers Research weeks ago The shares of Delta Air Lines Inc NYSE DAL are up at On the charts Delta Air Lines stock has struggled to recover from a May DAL Surges as Vaccine News Boosts Travel SectorSchaeffers Research DAL Surges as Vaccine News Boosts Travel Sector Schaeffers Research weeks ago The shares of Delta Air Lines Inc NYSE DAL are up at On the charts Delta Air Lines stock has struggled to recover from a May weeks ago The shares of Delta Air Lines Inc NYSE DAL are up at On the charts Delta Air Lines stock has struggled to recover from a May weeks ago The shares of Delta Air Lines Inc NYSE DAL are up at On the charts Delta Air Lines stock has struggled to recover from a May weeks ago The shares of Delta Air Lines Inc NYSE DAL are up at On the charts Delta Air Lines stock has struggled to recover from a May weeks ago The shares of Delta Air Lines Inc NYSE DAL are up at On the charts Delta Air Lines stock has struggled to recover from a May Next Next Next Sign inSettingsPrivacyTerms Sign in SettingsPrivacyTerms '}"
            ]
          },
          "metadata": {
            "tags": []
          },
          "execution_count": 29
        }
      ]
    },
    {
      "cell_type": "code",
      "metadata": {
        "colab": {
          "base_uri": "https://localhost:8080/",
          "height": 442
        },
        "id": "BN1X3ykFs07g",
        "outputId": "923e4268-d590-4e44-fb85-a49686bac32f"
      },
      "source": [
        "dal_plot = pd.DataFrame(dal_news)\n",
        "dal_plot.plot.bar(x=\"labels\", y=\"scores\",  rot=360, figsize=(10,7), color='darkolivegreen');"
      ],
      "execution_count": null,
      "outputs": [
        {
          "output_type": "display_data",
          "data": {
            "image/png": "[encoded data removed]",
            "text/plain": [
              "<Figure size 720x504 with 1 Axes>"
            ]
          },
          "metadata": {
            "tags": [],
            "needs_background": "light"
          }
        }
      ]
    },
    {
      "cell_type": "code",
      "metadata": {
        "id": "1xz-FC7HrdTv"
      },
      "source": [
        "alk_news = classifyNews(alk_url)"
      ],
      "execution_count": null,
      "outputs": []
    },
    {
      "cell_type": "code",
      "metadata": {
        "colab": {
          "base_uri": "https://localhost:8080/"
        },
        "id": "AHJmD6EardYi",
        "outputId": "0e723221-4e7f-4904-cae6-a7145440601e"
      },
      "source": [
        "alk_news"
      ],
      "execution_count": null,
      "outputs": [
        {
          "output_type": "execute_result",
          "data": {
            "text/plain": [
              "{'labels': ['positive', 'negative'],\n",
              " 'scores': [0.513372540473938, 0.4866275191307068],\n",
              " 'sequence': ' Google Please click here if you are not redirected within a few seconds AllNewsBooksShopping Images Maps Videos Search tools All newsAll newsBlogsRecentRecentPast hourPast hoursPast weekPast monthPast yearArchivesSorted by relevanceSorted by relevanceSorted by date function call this Alaska Air ALK Up Since Last Earnings Report Can It Continue Yahoo Finance week ago See OSH stock analysis on TipRanks To find good ideas for healthcare stocks trading at attractive valuations visit TipRanks Best Stocks to Buy Airline Stock Roundup UAL s Bleak Update CPA s Q Loss GOL ALK in FocusYahoo Finance week ago Similar sentiment was echoed by Alaska Air Group ALK in an investor update Notably Southwest Airlines LUV issued a similar statement as Alaska Air Group Inc ALK Stock Buy Hold or Sell InvestorsObserver weeks ago Alaska Air Group Inc ALK Stock Buy Hold or Sell Monday November PM InvestorsObserver Analysts Alaska Air Group Inc ALK Stock Alaska Air Group Inc ALK fell so far this year What now The DBT News days ago The one year ALK stock forecast points to a potential downside of The average equity rating for ALK stock is currently trading closer Alaska Air Group Inc NYSE ALK Receives Average Recommendation of Buy from BrokeragesMarketBeat hours ago Crossmark Global Holdings Inc now owns shares of the transportation company s stock worth after buying an additional Will The Rally Continue In Alaska Air Trefis week ago Alaska Airlines stock NYSE ALK has observed a jump since the beginning of the month on hopes of a successful vaccine by early next Alaska Air Group Inc ALK Is Currently below its Period Moving Avg What Dose This Mean The DBT News weeks ago Alaska Air Group Inc NYSE ALK closed the trading session at on The day s price range saw the stock hit a low of Alaska Air Group NYSE ALK PT Raised to MarketBeat day ago The stock currently has a consensus rating of Buy and a consensus price target of Shares of NYSE ALK opened at on Monday Alaska Air Group Inc NYSE ALK Director Jessie J Knight Jr Acquires SharesMarketBeat hours ago NYSE ALK Director Jessie J Knight Jr acquired shares of the company s stock in a transaction dated Friday November th The shares A Lesson to Learn Alaska Air Group Inc ALK News HeaterThe News Heater days ago Today the average trading volume of ALK was M shares ALK s Market Performance ALK stocks went up by for the week with a Next Sign inSettingsPrivacyTerms function l w h null g function a m function a var n q function catch c n a else n a return n var u function a b v function a t r var x function a b y function a aa function b v new u r complete search if z test b throw Error a b var c b replace A function d e return B c A g z https a z about blank i ba s S w B function a C function a b c return b var E function a b c F function a D ca function a da new E f trustedTypes f trustedTypes emptyHTML D var ea function a function fa function a b var G document querySelector l H document querySelector sf I H querySelector sbc J H querySelector type text K H querySelector type submit L H querySelector sc M H querySelector x N J value O P Q N R S U N M M style display none V function V a function W function X undefined typeof ds ds a ds ds var b document var c SCRIPT application xhtml xml b contentType c c toLowerCase c b createElement c b aa b ba exec y b toString var d b a B b C b a C d void c src y a a k c ownerDocument c ownerDocument defaultView c setAttribute nonce a a k c setAttribute nonce a document body appendChild c S null R setTimeout X function Y function Z J addEventListener focus function J addEventListener blur function J addEventListener keyup function a K addEventListener click W M addEventListener click function I addEventListener click function window hS function a c c replace g d addEventListener click function p b L appendChild d V O push c call this function document addEventListener click b document addEventListener touchStart b call this AllNewsBooksShopping Images Maps Videos Search tools All newsAll newsBlogsRecentRecentPast hourPast hoursPast weekPast monthPast yearArchivesSorted by relevanceSorted by relevanceSorted by date function call this AllNewsBooksShopping Images Maps Videos Search tools AllNewsBooksShopping Images Maps Videos Search tools AllNewsBooksShopping Images Maps Videos Search tools AllNewsBooksShopping Images Maps Videos Search tools Search tools All newsAll newsBlogsRecentRecentPast hourPast hoursPast weekPast monthPast yearArchivesSorted by relevanceSorted by relevanceSorted by date function call this All newsAll newsBlogsRecentRecentPast hourPast hoursPast weekPast monthPast yearArchivesSorted by relevanceSorted by relevanceSorted by date All newsAll newsBlogsRecentRecentPast hourPast hoursPast weekPast monthPast yearArchivesSorted by relevanceSorted by relevanceSorted by date All newsAll newsBlogsRecentRecentPast hourPast hoursPast weekPast monthPast yearArchivesSorted by relevanceSorted by relevanceSorted by date All newsAll newsBlogs All news All news RecentRecentPast hourPast hoursPast weekPast monthPast yearArchives Recent Recent Sorted by relevanceSorted by relevanceSorted by date Sorted by relevance Sorted by relevance Alaska Air ALK Up Since Last Earnings Report Can It Continue Yahoo Finance week ago See OSH stock analysis on TipRanks To find good ideas for healthcare stocks trading at attractive valuations visit TipRanks Best Stocks to Buy Alaska Air ALK Up Since Last Earnings Report Can It Continue Yahoo Finance week ago See OSH stock analysis on TipRanks To find good ideas for healthcare stocks trading at attractive valuations visit TipRanks Best Stocks to Buy Alaska Air ALK Up Since Last Earnings Report Can It Continue Yahoo Finance Alaska Air ALK Up Since Last Earnings Report Can It Continue Yahoo Finance week ago See OSH stock analysis on TipRanks To find good ideas for healthcare stocks trading at attractive valuations visit TipRanks Best Stocks to Buy week ago See OSH stock analysis on TipRanks To find good ideas for healthcare stocks trading at attractive valuations visit TipRanks Best Stocks to Buy week ago See OSH stock analysis on TipRanks To find good ideas for healthcare stocks trading at attractive valuations visit TipRanks Best Stocks to Buy week ago See OSH stock analysis on TipRanks To find good ideas for healthcare stocks trading at attractive valuations visit TipRanks Best Stocks to Buy week ago See OSH stock analysis on TipRanks To find good ideas for healthcare stocks trading at attractive valuations visit TipRanks Best Stocks to Buy Airline Stock Roundup UAL s Bleak Update CPA s Q Loss GOL ALK in FocusYahoo Finance week ago Similar sentiment was echoed by Alaska Air Group ALK in an investor update Notably Southwest Airlines LUV issued a similar statement as Airline Stock Roundup UAL s Bleak Update CPA s Q Loss GOL ALK in FocusYahoo Finance week ago Similar sentiment was echoed by Alaska Air Group ALK in an investor update Notably Southwest Airlines LUV issued a similar statement as Airline Stock Roundup UAL s Bleak Update CPA s Q Loss GOL ALK in FocusYahoo Finance Airline Stock Roundup UAL s Bleak Update CPA s Q Loss GOL ALK in Focus Yahoo Finance week ago Similar sentiment was echoed by Alaska Air Group ALK in an investor update Notably Southwest Airlines LUV issued a similar statement as week ago Similar sentiment was echoed by Alaska Air Group ALK in an investor update Notably Southwest Airlines LUV issued a similar statement as week ago Similar sentiment was echoed by Alaska Air Group ALK in an investor update Notably Southwest Airlines LUV issued a similar statement as week ago Similar sentiment was echoed by Alaska Air Group ALK in an investor update Notably Southwest Airlines LUV issued a similar statement as week ago Similar sentiment was echoed by Alaska Air Group ALK in an investor update Notably Southwest Airlines LUV issued a similar statement as Alaska Air Group Inc ALK Stock Buy Hold or Sell InvestorsObserver weeks ago Alaska Air Group Inc ALK Stock Buy Hold or Sell Monday November PM InvestorsObserver Analysts Alaska Air Group Inc ALK Stock Alaska Air Group Inc ALK Stock Buy Hold or Sell InvestorsObserver weeks ago Alaska Air Group Inc ALK Stock Buy Hold or Sell Monday November PM InvestorsObserver Analysts Alaska Air Group Inc ALK Stock Alaska Air Group Inc ALK Stock Buy Hold or Sell InvestorsObserver Alaska Air Group Inc ALK Stock Buy Hold or Sell InvestorsObserver weeks ago Alaska Air Group Inc ALK Stock Buy Hold or Sell Monday November PM InvestorsObserver Analysts Alaska Air Group Inc ALK Stock weeks ago Alaska Air Group Inc ALK Stock Buy Hold or Sell Monday November PM InvestorsObserver Analysts Alaska Air Group Inc ALK Stock weeks ago Alaska Air Group Inc ALK Stock Buy Hold or Sell Monday November PM InvestorsObserver Analysts Alaska Air Group Inc ALK Stock weeks ago Alaska Air Group Inc ALK Stock Buy Hold or Sell Monday November PM InvestorsObserver Analysts Alaska Air Group Inc ALK Stock weeks ago Alaska Air Group Inc ALK Stock Buy Hold or Sell Monday November PM InvestorsObserver Analysts Alaska Air Group Inc ALK Stock Alaska Air Group Inc ALK fell so far this year What now The DBT News days ago The one year ALK stock forecast points to a potential downside of The average equity rating for ALK stock is currently trading closer Alaska Air Group Inc ALK fell so far this year What now The DBT News days ago The one year ALK stock forecast points to a potential downside of The average equity rating for ALK stock is currently trading closer Alaska Air Group Inc ALK fell so far this year What now The DBT News Alaska Air Group Inc ALK fell so far this year What now The DBT News days ago The one year ALK stock forecast points to a potential downside of The average equity rating for ALK stock is currently trading closer days ago The one year ALK stock forecast points to a potential downside of The average equity rating for ALK stock is currently trading closer days ago The one year ALK stock forecast points to a potential downside of The average equity rating for ALK stock is currently trading closer days ago The one year ALK stock forecast points to a potential downside of The average equity rating for ALK stock is currently trading closer days ago The one year ALK stock forecast points to a potential downside of The average equity rating for ALK stock is currently trading closer Alaska Air Group Inc NYSE ALK Receives Average Recommendation of Buy from BrokeragesMarketBeat hours ago Crossmark Global Holdings Inc now owns shares of the transportation company s stock worth after buying an additional Alaska Air Group Inc NYSE ALK Receives Average Recommendation of Buy from BrokeragesMarketBeat hours ago Crossmark Global Holdings Inc now owns shares of the transportation company s stock worth after buying an additional Alaska Air Group Inc NYSE ALK Receives Average Recommendation of Buy from BrokeragesMarketBeat Alaska Air Group Inc NYSE ALK Receives Average Recommendation of Buy from Brokerages MarketBeat hours ago Crossmark Global Holdings Inc now owns shares of the transportation company s stock worth after buying an additional hours ago Crossmark Global Holdings Inc now owns shares of the transportation company s stock worth after buying an additional hours ago Crossmark Global Holdings Inc now owns shares of the transportation company s stock worth after buying an additional hours ago Crossmark Global Holdings Inc now owns shares of the transportation company s stock worth after buying an additional hours ago Crossmark Global Holdings Inc now owns shares of the transportation company s stock worth after buying an additional Will The Rally Continue In Alaska Air Trefis week ago Alaska Airlines stock NYSE ALK has observed a jump since the beginning of the month on hopes of a successful vaccine by early next Will The Rally Continue In Alaska Air Trefis week ago Alaska Airlines stock NYSE ALK has observed a jump since the beginning of the month on hopes of a successful vaccine by early next Will The Rally Continue In Alaska Air Trefis Will The Rally Continue In Alaska Air Trefis week ago Alaska Airlines stock NYSE ALK has observed a jump since the beginning of the month on hopes of a successful vaccine by early next week ago Alaska Airlines stock NYSE ALK has observed a jump since the beginning of the month on hopes of a successful vaccine by early next week ago Alaska Airlines stock NYSE ALK has observed a jump since the beginning of the month on hopes of a successful vaccine by early next week ago Alaska Airlines stock NYSE ALK has observed a jump since the beginning of the month on hopes of a successful vaccine by early next week ago Alaska Airlines stock NYSE ALK has observed a jump since the beginning of the month on hopes of a successful vaccine by early next Alaska Air Group Inc ALK Is Currently below its Period Moving Avg What Dose This Mean The DBT News weeks ago Alaska Air Group Inc NYSE ALK closed the trading session at on The day s price range saw the stock hit a low of Alaska Air Group Inc ALK Is Currently below its Period Moving Avg What Dose This Mean The DBT News weeks ago Alaska Air Group Inc NYSE ALK closed the trading session at on The day s price range saw the stock hit a low of Alaska Air Group Inc ALK Is Currently below its Period Moving Avg What Dose This Mean The DBT News Alaska Air Group Inc ALK Is Currently below its Period Moving Avg What Dose This Mean The DBT News weeks ago Alaska Air Group Inc NYSE ALK closed the trading session at on The day s price range saw the stock hit a low of weeks ago Alaska Air Group Inc NYSE ALK closed the trading session at on The day s price range saw the stock hit a low of weeks ago Alaska Air Group Inc NYSE ALK closed the trading session at on The day s price range saw the stock hit a low of weeks ago Alaska Air Group Inc NYSE ALK closed the trading session at on The day s price range saw the stock hit a low of weeks ago Alaska Air Group Inc NYSE ALK closed the trading session at on The day s price range saw the stock hit a low of Alaska Air Group NYSE ALK PT Raised to MarketBeat day ago The stock currently has a consensus rating of Buy and a consensus price target of Shares of NYSE ALK opened at on Monday Alaska Air Group NYSE ALK PT Raised to MarketBeat day ago The stock currently has a consensus rating of Buy and a consensus price target of Shares of NYSE ALK opened at on Monday Alaska Air Group NYSE ALK PT Raised to MarketBeat Alaska Air Group NYSE ALK PT Raised to MarketBeat day ago The stock currently has a consensus rating of Buy and a consensus price target of Shares of NYSE ALK opened at on Monday day ago The stock currently has a consensus rating of Buy and a consensus price target of Shares of NYSE ALK opened at on Monday day ago The stock currently has a consensus rating of Buy and a consensus price target of Shares of NYSE ALK opened at on Monday day ago The stock currently has a consensus rating of Buy and a consensus price target of Shares of NYSE ALK opened at on Monday day ago The stock currently has a consensus rating of Buy and a consensus price target of Shares of NYSE ALK opened at on Monday Alaska Air Group Inc NYSE ALK Director Jessie J Knight Jr Acquires SharesMarketBeat hours ago NYSE ALK Director Jessie J Knight Jr acquired shares of the company s stock in a transaction dated Friday November th The shares Alaska Air Group Inc NYSE ALK Director Jessie J Knight Jr Acquires SharesMarketBeat hours ago NYSE ALK Director Jessie J Knight Jr acquired shares of the company s stock in a transaction dated Friday November th The shares Alaska Air Group Inc NYSE ALK Director Jessie J Knight Jr Acquires SharesMarketBeat Alaska Air Group Inc NYSE ALK Director Jessie J Knight Jr Acquires Shares MarketBeat hours ago NYSE ALK Director Jessie J Knight Jr acquired shares of the company s stock in a transaction dated Friday November th The shares hours ago NYSE ALK Director Jessie J Knight Jr acquired shares of the company s stock in a transaction dated Friday November th The shares hours ago NYSE ALK Director Jessie J Knight Jr acquired shares of the company s stock in a transaction dated Friday November th The shares hours ago NYSE ALK Director Jessie J Knight Jr acquired shares of the company s stock in a transaction dated Friday November th The shares hours ago NYSE ALK Director Jessie J Knight Jr acquired shares of the company s stock in a transaction dated Friday November th The shares A Lesson to Learn Alaska Air Group Inc ALK News HeaterThe News Heater days ago Today the average trading volume of ALK was M shares ALK s Market Performance ALK stocks went up by for the week with a A Lesson to Learn Alaska Air Group Inc ALK News HeaterThe News Heater days ago Today the average trading volume of ALK was M shares ALK s Market Performance ALK stocks went up by for the week with a A Lesson to Learn Alaska Air Group Inc ALK News HeaterThe News Heater A Lesson to Learn Alaska Air Group Inc ALK News Heater The News Heater days ago Today the average trading volume of ALK was M shares ALK s Market Performance ALK stocks went up by for the week with a days ago Today the average trading volume of ALK was M shares ALK s Market Performance ALK stocks went up by for the week with a days ago Today the average trading volume of ALK was M shares ALK s Market Performance ALK stocks went up by for the week with a days ago Today the average trading volume of ALK was M shares ALK s Market Performance ALK stocks went up by for the week with a days ago Today the average trading volume of ALK was M shares ALK s Market Performance ALK stocks went up by for the week with a Next Next Next Sign inSettingsPrivacyTerms Sign in SettingsPrivacyTerms '}"
            ]
          },
          "metadata": {
            "tags": []
          },
          "execution_count": 32
        }
      ]
    },
    {
      "cell_type": "code",
      "metadata": {
        "colab": {
          "base_uri": "https://localhost:8080/",
          "height": 442
        },
        "id": "E3AIaTfzs9nv",
        "outputId": "49cf8193-7329-4249-ba23-7769d57eaa05"
      },
      "source": [
        "alk_plot = pd.DataFrame(alk_news)\n",
        "alk_plot.plot.bar(x=\"labels\", y=\"scores\",  rot=360, figsize=(10,7), color='darkslategray');"
      ],
      "execution_count": null,
      "outputs": [
        {
          "output_type": "display_data",
          "data": {
            "image/png": "[encoded data removed]",
            "text/plain": [
              "<Figure size 720x504 with 1 Axes>"
            ]
          },
          "metadata": {
            "tags": [],
            "needs_background": "light"
          }
        }
      ]
    },
    {
      "cell_type": "code",
      "metadata": {
        "id": "_-wUf3TXrdfl"
      },
      "source": [
        "luv_news = classifyNews(luv_url)"
      ],
      "execution_count": null,
      "outputs": []
    },
    {
      "cell_type": "code",
      "metadata": {
        "colab": {
          "base_uri": "https://localhost:8080/"
        },
        "id": "zgGW0jjkrdip",
        "outputId": "70b9e8f8-8aae-40b8-cf7a-3e626fb05d25"
      },
      "source": [
        "luv_news"
      ],
      "execution_count": null,
      "outputs": [
        {
          "output_type": "execute_result",
          "data": {
            "text/plain": [
              "{'labels': ['positive', 'negative'],\n",
              " 'scores': [0.7445719242095947, 0.25542813539505005],\n",
              " 'sequence': ' Google Please click here if you are not redirected within a few seconds AllNewsBooksShopping Images Maps Videos Search tools All newsAll newsBlogsRecentRecentPast hourPast hoursPast weekPast monthPast yearArchivesSorted by relevanceSorted by relevanceSorted by date function call this Grab Southwest Airlines Stock As It Begins to Soar AgainInvestorplace com weeks ago LUV stock has set a great base for the bulls By Nicolas Chahine InvestorPlace Contributor Nov pm EST LUV Stocks to Buy After Pfizer Announces Positive Vaccine Trial StockNews com weeks ago LUV Stocks such as Southwest Airlines LUV Kinder Morgan KMI and Disney DIS are well poised to make a comeback if COVID is Southwest Airlines Co NYSE LUV stock Earned a Buy Position From JefferiesBOV News days ago NYSE LUV stock a Buy and gave the company s common stock a price target of Jefferies s estimates were contained in a research note Here s Why Investors Should Avoid American Airlines and Focus on SouthwestMotley Fool day ago Jason Hall We ve seen airlines stocks as a group even though a lot are still down have really run hard and fast recently I m sure you ve got an Southwest Airlines Be Greedy When Others Are FearfulYahoo Finance day ago B for many decades but being bold enough to buy stocks when and Southwest s financial position suggests the stock is undervalued at the Why Southwest Is The Airline Stock To Buy For A Post Virus WorldForbes days ago A good bet is Southwest LUV Airlines Here s a value play that is well suited to pay off Now changing hands at per share it could well Boiling and ready to burst as Southwest Airlines Co LUV last month performance was The InvestChronicle days ago The stock current value is Get the hottest stocks to trade every day before the market opens free Click here now Recently in News December th Options Now Available For Southwest Airlines LUV Nasdaq weeks ago At Stock Options Channel our YieldBoost formula has looked up and down the LUV options chain for the new December th contracts and Southwest Airlines Company LUV Rises for December Equities com hour ago Over the last days the stock s average daily volume has been n a of its million share total float Today s action puts the stock s day Southwest Airlines Co LUV stock Reiterated by Cowen analyst price target now The DBT News weeks ago NYSE LUV closed the trading session at on The day s price range saw the stock hit a low of while the highest price Next Sign inSettingsPrivacyTerms function l w h null g function a m function a var n q function catch c n a else n a return n var u function a b v function a t r var x function a b y function a aa function b v new u r complete search if z test b throw Error a b var c b replace A function d e return B c A g z https a z about blank i ba s S w B function a C function a b c return b var E function a b c F function a D ca function a da new E f trustedTypes f trustedTypes emptyHTML D var ea function a function fa function a b var G document querySelector l H document querySelector sf I H querySelector sbc J H querySelector type text K H querySelector type submit L H querySelector sc M H querySelector x N J value O P Q N R S U N M M style display none V function V a function W function X undefined typeof ds ds a ds ds var b document var c SCRIPT application xhtml xml b contentType c c toLowerCase c b createElement c b aa b ba exec y b toString var d b a B b C b a C d void c src y a a k c ownerDocument c ownerDocument defaultView c setAttribute nonce a a k c setAttribute nonce a document body appendChild c S null R setTimeout X function Y function Z J addEventListener focus function J addEventListener blur function J addEventListener keyup function a K addEventListener click W M addEventListener click function I addEventListener click function window hS function a c c replace g d addEventListener click function p b L appendChild d V O push c call this function document addEventListener click b document addEventListener touchStart b call this AllNewsBooksShopping Images Maps Videos Search tools All newsAll newsBlogsRecentRecentPast hourPast hoursPast weekPast monthPast yearArchivesSorted by relevanceSorted by relevanceSorted by date function call this AllNewsBooksShopping Images Maps Videos Search tools AllNewsBooksShopping Images Maps Videos Search tools AllNewsBooksShopping Images Maps Videos Search tools AllNewsBooksShopping Images Maps Videos Search tools Search tools All newsAll newsBlogsRecentRecentPast hourPast hoursPast weekPast monthPast yearArchivesSorted by relevanceSorted by relevanceSorted by date function call this All newsAll newsBlogsRecentRecentPast hourPast hoursPast weekPast monthPast yearArchivesSorted by relevanceSorted by relevanceSorted by date All newsAll newsBlogsRecentRecentPast hourPast hoursPast weekPast monthPast yearArchivesSorted by relevanceSorted by relevanceSorted by date All newsAll newsBlogsRecentRecentPast hourPast hoursPast weekPast monthPast yearArchivesSorted by relevanceSorted by relevanceSorted by date All newsAll newsBlogs All news All news RecentRecentPast hourPast hoursPast weekPast monthPast yearArchives Recent Recent Sorted by relevanceSorted by relevanceSorted by date Sorted by relevance Sorted by relevance Grab Southwest Airlines Stock As It Begins to Soar AgainInvestorplace com weeks ago LUV stock has set a great base for the bulls By Nicolas Chahine InvestorPlace Contributor Nov pm EST Grab Southwest Airlines Stock As It Begins to Soar AgainInvestorplace com weeks ago LUV stock has set a great base for the bulls By Nicolas Chahine InvestorPlace Contributor Nov pm EST Grab Southwest Airlines Stock As It Begins to Soar AgainInvestorplace com Grab Southwest Airlines Stock As It Begins to Soar Again Investorplace com weeks ago LUV stock has set a great base for the bulls By Nicolas Chahine InvestorPlace Contributor Nov pm EST weeks ago LUV stock has set a great base for the bulls By Nicolas Chahine InvestorPlace Contributor Nov pm EST weeks ago LUV stock has set a great base for the bulls By Nicolas Chahine InvestorPlace Contributor Nov pm EST weeks ago LUV stock has set a great base for the bulls By Nicolas Chahine InvestorPlace Contributor Nov pm EST weeks ago LUV stock has set a great base for the bulls By Nicolas Chahine InvestorPlace Contributor Nov pm EST LUV Stocks to Buy After Pfizer Announces Positive Vaccine Trial StockNews com weeks ago LUV Stocks such as Southwest Airlines LUV Kinder Morgan KMI and Disney DIS are well poised to make a comeback if COVID is LUV Stocks to Buy After Pfizer Announces Positive Vaccine Trial StockNews com weeks ago LUV Stocks such as Southwest Airlines LUV Kinder Morgan KMI and Disney DIS are well poised to make a comeback if COVID is LUV Stocks to Buy After Pfizer Announces Positive Vaccine Trial StockNews com LUV Stocks to Buy After Pfizer Announces Positive Vaccine Trial StockNews com weeks ago LUV Stocks such as Southwest Airlines LUV Kinder Morgan KMI and Disney DIS are well poised to make a comeback if COVID is weeks ago LUV Stocks such as Southwest Airlines LUV Kinder Morgan KMI and Disney DIS are well poised to make a comeback if COVID is weeks ago LUV Stocks such as Southwest Airlines LUV Kinder Morgan KMI and Disney DIS are well poised to make a comeback if COVID is weeks ago LUV Stocks such as Southwest Airlines LUV Kinder Morgan KMI and Disney DIS are well poised to make a comeback if COVID is weeks ago LUV Stocks such as Southwest Airlines LUV Kinder Morgan KMI and Disney DIS are well poised to make a comeback if COVID is Southwest Airlines Co NYSE LUV stock Earned a Buy Position From JefferiesBOV News days ago NYSE LUV stock a Buy and gave the company s common stock a price target of Jefferies s estimates were contained in a research note Southwest Airlines Co NYSE LUV stock Earned a Buy Position From JefferiesBOV News days ago NYSE LUV stock a Buy and gave the company s common stock a price target of Jefferies s estimates were contained in a research note Southwest Airlines Co NYSE LUV stock Earned a Buy Position From JefferiesBOV News Southwest Airlines Co NYSE LUV stock Earned a Buy Position From Jefferies BOV News days ago NYSE LUV stock a Buy and gave the company s common stock a price target of Jefferies s estimates were contained in a research note days ago NYSE LUV stock a Buy and gave the company s common stock a price target of Jefferies s estimates were contained in a research note days ago NYSE LUV stock a Buy and gave the company s common stock a price target of Jefferies s estimates were contained in a research note days ago NYSE LUV stock a Buy and gave the company s common stock a price target of Jefferies s estimates were contained in a research note days ago NYSE LUV stock a Buy and gave the company s common stock a price target of Jefferies s estimates were contained in a research note Here s Why Investors Should Avoid American Airlines and Focus on SouthwestMotley Fool day ago Jason Hall We ve seen airlines stocks as a group even though a lot are still down have really run hard and fast recently I m sure you ve got an Here s Why Investors Should Avoid American Airlines and Focus on SouthwestMotley Fool day ago Jason Hall We ve seen airlines stocks as a group even though a lot are still down have really run hard and fast recently I m sure you ve got an Here s Why Investors Should Avoid American Airlines and Focus on SouthwestMotley Fool Here s Why Investors Should Avoid American Airlines and Focus on Southwest Motley Fool day ago Jason Hall We ve seen airlines stocks as a group even though a lot are still down have really run hard and fast recently I m sure you ve got an day ago Jason Hall We ve seen airlines stocks as a group even though a lot are still down have really run hard and fast recently I m sure you ve got an day ago Jason Hall We ve seen airlines stocks as a group even though a lot are still down have really run hard and fast recently I m sure you ve got an day ago Jason Hall We ve seen airlines stocks as a group even though a lot are still down have really run hard and fast recently I m sure you ve got an day ago Jason Hall We ve seen airlines stocks as a group even though a lot are still down have really run hard and fast recently I m sure you ve got an Southwest Airlines Be Greedy When Others Are FearfulYahoo Finance day ago B for many decades but being bold enough to buy stocks when and Southwest s financial position suggests the stock is undervalued at the Southwest Airlines Be Greedy When Others Are FearfulYahoo Finance day ago B for many decades but being bold enough to buy stocks when and Southwest s financial position suggests the stock is undervalued at the Southwest Airlines Be Greedy When Others Are FearfulYahoo Finance Southwest Airlines Be Greedy When Others Are Fearful Yahoo Finance day ago B for many decades but being bold enough to buy stocks when and Southwest s financial position suggests the stock is undervalued at the day ago B for many decades but being bold enough to buy stocks when and Southwest s financial position suggests the stock is undervalued at the day ago B for many decades but being bold enough to buy stocks when and Southwest s financial position suggests the stock is undervalued at the day ago B for many decades but being bold enough to buy stocks when and Southwest s financial position suggests the stock is undervalued at the day ago B for many decades but being bold enough to buy stocks when and Southwest s financial position suggests the stock is undervalued at the Why Southwest Is The Airline Stock To Buy For A Post Virus WorldForbes days ago A good bet is Southwest LUV Airlines Here s a value play that is well suited to pay off Now changing hands at per share it could well Why Southwest Is The Airline Stock To Buy For A Post Virus WorldForbes days ago A good bet is Southwest LUV Airlines Here s a value play that is well suited to pay off Now changing hands at per share it could well Why Southwest Is The Airline Stock To Buy For A Post Virus WorldForbes Why Southwest Is The Airline Stock To Buy For A Post Virus World Forbes days ago A good bet is Southwest LUV Airlines Here s a value play that is well suited to pay off Now changing hands at per share it could well days ago A good bet is Southwest LUV Airlines Here s a value play that is well suited to pay off Now changing hands at per share it could well days ago A good bet is Southwest LUV Airlines Here s a value play that is well suited to pay off Now changing hands at per share it could well days ago A good bet is Southwest LUV Airlines Here s a value play that is well suited to pay off Now changing hands at per share it could well days ago A good bet is Southwest LUV Airlines Here s a value play that is well suited to pay off Now changing hands at per share it could well Boiling and ready to burst as Southwest Airlines Co LUV last month performance was The InvestChronicle days ago The stock current value is Get the hottest stocks to trade every day before the market opens free Click here now Recently in News Boiling and ready to burst as Southwest Airlines Co LUV last month performance was The InvestChronicle days ago The stock current value is Get the hottest stocks to trade every day before the market opens free Click here now Recently in News Boiling and ready to burst as Southwest Airlines Co LUV last month performance was The InvestChronicle Boiling and ready to burst as Southwest Airlines Co LUV last month performance was The InvestChronicle days ago The stock current value is Get the hottest stocks to trade every day before the market opens free Click here now Recently in News days ago The stock current value is Get the hottest stocks to trade every day before the market opens free Click here now Recently in News days ago The stock current value is Get the hottest stocks to trade every day before the market opens free Click here now Recently in News days ago The stock current value is Get the hottest stocks to trade every day before the market opens free Click here now Recently in News days ago The stock current value is Get the hottest stocks to trade every day before the market opens free Click here now Recently in News December th Options Now Available For Southwest Airlines LUV Nasdaq weeks ago At Stock Options Channel our YieldBoost formula has looked up and down the LUV options chain for the new December th contracts and December th Options Now Available For Southwest Airlines LUV Nasdaq weeks ago At Stock Options Channel our YieldBoost formula has looked up and down the LUV options chain for the new December th contracts and December th Options Now Available For Southwest Airlines LUV Nasdaq December th Options Now Available For Southwest Airlines LUV Nasdaq weeks ago At Stock Options Channel our YieldBoost formula has looked up and down the LUV options chain for the new December th contracts and weeks ago At Stock Options Channel our YieldBoost formula has looked up and down the LUV options chain for the new December th contracts and weeks ago At Stock Options Channel our YieldBoost formula has looked up and down the LUV options chain for the new December th contracts and weeks ago At Stock Options Channel our YieldBoost formula has looked up and down the LUV options chain for the new December th contracts and weeks ago At Stock Options Channel our YieldBoost formula has looked up and down the LUV options chain for the new December th contracts and Southwest Airlines Company LUV Rises for December Equities com hour ago Over the last days the stock s average daily volume has been n a of its million share total float Today s action puts the stock s day Southwest Airlines Company LUV Rises for December Equities com hour ago Over the last days the stock s average daily volume has been n a of its million share total float Today s action puts the stock s day Southwest Airlines Company LUV Rises for December Equities com Southwest Airlines Company LUV Rises for December Equities com hour ago Over the last days the stock s average daily volume has been n a of its million share total float Today s action puts the stock s day hour ago Over the last days the stock s average daily volume has been n a of its million share total float Today s action puts the stock s day hour ago Over the last days the stock s average daily volume has been n a of its million share total float Today s action puts the stock s day hour ago Over the last days the stock s average daily volume has been n a of its million share total float Today s action puts the stock s day hour ago Over the last days the stock s average daily volume has been n a of its million share total float Today s action puts the stock s day Southwest Airlines Co LUV stock Reiterated by Cowen analyst price target now The DBT News weeks ago NYSE LUV closed the trading session at on The day s price range saw the stock hit a low of while the highest price Southwest Airlines Co LUV stock Reiterated by Cowen analyst price target now The DBT News weeks ago NYSE LUV closed the trading session at on The day s price range saw the stock hit a low of while the highest price Southwest Airlines Co LUV stock Reiterated by Cowen analyst price target now The DBT News Southwest Airlines Co LUV stock Reiterated by Cowen analyst price target now The DBT News weeks ago NYSE LUV closed the trading session at on The day s price range saw the stock hit a low of while the highest price weeks ago NYSE LUV closed the trading session at on The day s price range saw the stock hit a low of while the highest price weeks ago NYSE LUV closed the trading session at on The day s price range saw the stock hit a low of while the highest price weeks ago NYSE LUV closed the trading session at on The day s price range saw the stock hit a low of while the highest price weeks ago NYSE LUV closed the trading session at on The day s price range saw the stock hit a low of while the highest price Next Next Next Sign inSettingsPrivacyTerms Sign in SettingsPrivacyTerms '}"
            ]
          },
          "metadata": {
            "tags": []
          },
          "execution_count": 43
        }
      ]
    },
    {
      "cell_type": "code",
      "metadata": {
        "colab": {
          "base_uri": "https://localhost:8080/",
          "height": 442
        },
        "id": "Q0zRIDI8tFP0",
        "outputId": "42ace981-9fb2-40c4-8903-868f77f42fc8"
      },
      "source": [
        "luv_plot = pd.DataFrame(luv_news)\n",
        "luv_plot.plot.bar(x=\"labels\", y=\"scores\",  rot=360, figsize=(10,7), color='darkorange');"
      ],
      "execution_count": null,
      "outputs": [
        {
          "output_type": "display_data",
          "data": {
            "image/png": "[encoded data removed]",
            "text/plain": [
              "<Figure size 720x504 with 1 Axes>"
            ]
          },
          "metadata": {
            "tags": [],
            "needs_background": "light"
          }
        }
      ]
    }
  ]
}